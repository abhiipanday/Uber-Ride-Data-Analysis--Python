{
 "cells": [
  {
   "cell_type": "markdown",
   "id": "373588ac-3532-4734-a99c-63cdcf3bb76a",
   "metadata": {},
   "source": [
    "# Uber Basic Data Analysis"
   ]
  },
  {
   "cell_type": "markdown",
   "id": "ec1d5281-997b-4b1b-8fa1-5ca5da003b5e",
   "metadata": {},
   "source": [
    "## 1. Data Loading and Preparation"
   ]
  },
  {
   "cell_type": "markdown",
   "id": "dcaeb05d-1907-4f2d-bd84-450b2cdff460",
   "metadata": {},
   "source": [
    "### 1.1 Loading Modules"
   ]
  },
  {
   "cell_type": "code",
   "execution_count": 4,
   "id": "bf51b165-0a40-44a5-8713-6779dc5430cc",
   "metadata": {},
   "outputs": [],
   "source": [
    "import pandas as pd\n",
    "import numpy as np\n",
    "\n",
    "#Visualization modules\n",
    "import matplotlib.pyplot as plt\n",
    "import seaborn as sns\n",
    "\n",
    "\n",
    "%matplotlib inline\n",
    "from matplotlib import cm #Colormap"
   ]
  },
  {
   "cell_type": "markdown",
   "id": "ef19d1d6-fc08-432a-aa26-a88843fc701d",
   "metadata": {},
   "source": [
    "### 1.2 Loading Data"
   ]
  },
  {
   "cell_type": "code",
   "execution_count": 10,
   "id": "beba8aac-b7aa-466b-9ea6-b804220dfd5b",
   "metadata": {},
   "outputs": [],
   "source": [
    "#Load the datasets\n",
    "\n",
    "apr24=pd.read_csv(\"apr24.csv\")\n",
    "may24=pd.read_csv(\"may24.csv\")\n",
    "jun24=pd.read_csv(\"jun24.csv\")\n",
    "jul24=pd.read_csv(\"jul24.csv\")\n",
    "aug24=pd.read_csv(\"aug24.csv\")\n",
    "sep24=pd.read_csv(\"sep24.csv\")"
   ]
  },
  {
   "cell_type": "code",
   "execution_count": 12,
   "id": "bb056ae1-2b20-4c8e-a306-addee2114481",
   "metadata": {},
   "outputs": [],
   "source": [
    "#Merge the dataframes into one\n",
    "df = pd.concat([apr24, may24, jun24, jul24, aug24, sep24], ignore_index=True)"
   ]
  },
  {
   "cell_type": "markdown",
   "id": "2fbf46bf-52c9-480a-b6b0-aa5cd7e3a673",
   "metadata": {},
   "source": [
    "### 1.3 Data Preparation"
   ]
  },
  {
   "cell_type": "code",
   "execution_count": 15,
   "id": "2a935343-2592-4732-ad19-8431e1542f02",
   "metadata": {},
   "outputs": [
    {
     "data": {
      "text/html": [
       "<div>\n",
       "<style scoped>\n",
       "    .dataframe tbody tr th:only-of-type {\n",
       "        vertical-align: middle;\n",
       "    }\n",
       "\n",
       "    .dataframe tbody tr th {\n",
       "        vertical-align: top;\n",
       "    }\n",
       "\n",
       "    .dataframe thead th {\n",
       "        text-align: right;\n",
       "    }\n",
       "</style>\n",
       "<table border=\"1\" class=\"dataframe\">\n",
       "  <thead>\n",
       "    <tr style=\"text-align: right;\">\n",
       "      <th></th>\n",
       "      <th>Date/Time</th>\n",
       "      <th>Lat</th>\n",
       "      <th>Lon</th>\n",
       "      <th>Base</th>\n",
       "    </tr>\n",
       "  </thead>\n",
       "  <tbody>\n",
       "    <tr>\n",
       "      <th>0</th>\n",
       "      <td>04-01-2024 00:11</td>\n",
       "      <td>40.7690</td>\n",
       "      <td>-73.9549</td>\n",
       "      <td>B02512</td>\n",
       "    </tr>\n",
       "    <tr>\n",
       "      <th>1</th>\n",
       "      <td>04-01-2024 00:17</td>\n",
       "      <td>40.7267</td>\n",
       "      <td>-74.0345</td>\n",
       "      <td>B02512</td>\n",
       "    </tr>\n",
       "    <tr>\n",
       "      <th>2</th>\n",
       "      <td>04-01-2024 00:21</td>\n",
       "      <td>40.7316</td>\n",
       "      <td>-73.9873</td>\n",
       "      <td>B02512</td>\n",
       "    </tr>\n",
       "    <tr>\n",
       "      <th>3</th>\n",
       "      <td>04-01-2024 00:28</td>\n",
       "      <td>40.7588</td>\n",
       "      <td>-73.9776</td>\n",
       "      <td>B02512</td>\n",
       "    </tr>\n",
       "    <tr>\n",
       "      <th>4</th>\n",
       "      <td>04-01-2024 00:33</td>\n",
       "      <td>40.7594</td>\n",
       "      <td>-73.9722</td>\n",
       "      <td>B02512</td>\n",
       "    </tr>\n",
       "  </tbody>\n",
       "</table>\n",
       "</div>"
      ],
      "text/plain": [
       "          Date/Time      Lat      Lon    Base\n",
       "0  04-01-2024 00:11  40.7690 -73.9549  B02512\n",
       "1  04-01-2024 00:17  40.7267 -74.0345  B02512\n",
       "2  04-01-2024 00:21  40.7316 -73.9873  B02512\n",
       "3  04-01-2024 00:28  40.7588 -73.9776  B02512\n",
       "4  04-01-2024 00:33  40.7594 -73.9722  B02512"
      ]
     },
     "execution_count": 15,
     "metadata": {},
     "output_type": "execute_result"
    }
   ],
   "source": [
    "df.head()"
   ]
  },
  {
   "cell_type": "code",
   "execution_count": 17,
   "id": "1977fc09-2eea-4652-8cd3-d5393f44ed94",
   "metadata": {},
   "outputs": [
    {
     "name": "stdout",
     "output_type": "stream",
     "text": [
      "<class 'pandas.core.frame.DataFrame'>\n",
      "RangeIndex: 4534327 entries, 0 to 4534326\n",
      "Data columns (total 4 columns):\n",
      " #   Column     Dtype  \n",
      "---  ------     -----  \n",
      " 0   Date/Time  object \n",
      " 1   Lat        float64\n",
      " 2   Lon        float64\n",
      " 3   Base       object \n",
      "dtypes: float64(2), object(2)\n",
      "memory usage: 138.4+ MB\n"
     ]
    }
   ],
   "source": [
    "df.info()"
   ]
  },
  {
   "cell_type": "code",
   "execution_count": 19,
   "id": "3e8e25e1-67a2-49b1-921a-0f3573dbaa10",
   "metadata": {},
   "outputs": [],
   "source": [
    "# Renaming the Date/Time Column\n",
    "df = df.rename(columns={'Date/Time': 'Date_time'})"
   ]
  },
  {
   "cell_type": "code",
   "execution_count": 32,
   "id": "0b049157-c4dd-41c9-81c2-32ee4e69e306",
   "metadata": {},
   "outputs": [],
   "source": [
    "#Use format='mixed' for automatic format detection\n",
    "df['Date_time'] = pd.to_datetime(df['Date_time'], format='mixed', errors='coerce')"
   ]
  },
  {
   "cell_type": "code",
   "execution_count": 31,
   "id": "e2032ed4-a6b3-4a46-b92d-187f8b83d718",
   "metadata": {},
   "outputs": [],
   "source": [
    "# Converting the Date_time type into Datetime\n",
    "df['Date_time'] = pd.to_datetime(df['Date_time'])"
   ]
  },
  {
   "cell_type": "code",
   "execution_count": 33,
   "id": "4691627b-adc8-446b-a19c-d5c47d88ab3e",
   "metadata": {},
   "outputs": [],
   "source": [
    "# Adding useful columns\n",
    "df['Month'] = df['Date_time'].dt.month_name()\n",
    "df['Weekday'] = df['Date_time'].dt.day_name() \n",
    "df['Day'] = df['Date_time'].dt.day\n",
    "df['Hour'] = df['Date_time'].dt.hour\n",
    "df['Minute'] = df['Date_time'].dt.minute"
   ]
  },
  {
   "cell_type": "code",
   "execution_count": 37,
   "id": "6a4005df-5de8-4beb-8a92-3d51b0a1f48f",
   "metadata": {},
   "outputs": [
    {
     "data": {
      "text/html": [
       "<div>\n",
       "<style scoped>\n",
       "    .dataframe tbody tr th:only-of-type {\n",
       "        vertical-align: middle;\n",
       "    }\n",
       "\n",
       "    .dataframe tbody tr th {\n",
       "        vertical-align: top;\n",
       "    }\n",
       "\n",
       "    .dataframe thead th {\n",
       "        text-align: right;\n",
       "    }\n",
       "</style>\n",
       "<table border=\"1\" class=\"dataframe\">\n",
       "  <thead>\n",
       "    <tr style=\"text-align: right;\">\n",
       "      <th></th>\n",
       "      <th>Date_time</th>\n",
       "      <th>Lat</th>\n",
       "      <th>Lon</th>\n",
       "      <th>Base</th>\n",
       "      <th>Month</th>\n",
       "      <th>Weekday</th>\n",
       "      <th>Day</th>\n",
       "      <th>Hour</th>\n",
       "      <th>Minute</th>\n",
       "    </tr>\n",
       "  </thead>\n",
       "  <tbody>\n",
       "    <tr>\n",
       "      <th>0</th>\n",
       "      <td>2024-04-01 00:11:00</td>\n",
       "      <td>40.7690</td>\n",
       "      <td>-73.9549</td>\n",
       "      <td>B02512</td>\n",
       "      <td>April</td>\n",
       "      <td>Monday</td>\n",
       "      <td>1</td>\n",
       "      <td>0</td>\n",
       "      <td>11</td>\n",
       "    </tr>\n",
       "    <tr>\n",
       "      <th>1</th>\n",
       "      <td>2024-04-01 00:17:00</td>\n",
       "      <td>40.7267</td>\n",
       "      <td>-74.0345</td>\n",
       "      <td>B02512</td>\n",
       "      <td>April</td>\n",
       "      <td>Monday</td>\n",
       "      <td>1</td>\n",
       "      <td>0</td>\n",
       "      <td>17</td>\n",
       "    </tr>\n",
       "    <tr>\n",
       "      <th>2</th>\n",
       "      <td>2024-04-01 00:21:00</td>\n",
       "      <td>40.7316</td>\n",
       "      <td>-73.9873</td>\n",
       "      <td>B02512</td>\n",
       "      <td>April</td>\n",
       "      <td>Monday</td>\n",
       "      <td>1</td>\n",
       "      <td>0</td>\n",
       "      <td>21</td>\n",
       "    </tr>\n",
       "    <tr>\n",
       "      <th>3</th>\n",
       "      <td>2024-04-01 00:28:00</td>\n",
       "      <td>40.7588</td>\n",
       "      <td>-73.9776</td>\n",
       "      <td>B02512</td>\n",
       "      <td>April</td>\n",
       "      <td>Monday</td>\n",
       "      <td>1</td>\n",
       "      <td>0</td>\n",
       "      <td>28</td>\n",
       "    </tr>\n",
       "    <tr>\n",
       "      <th>4</th>\n",
       "      <td>2024-04-01 00:33:00</td>\n",
       "      <td>40.7594</td>\n",
       "      <td>-73.9722</td>\n",
       "      <td>B02512</td>\n",
       "      <td>April</td>\n",
       "      <td>Monday</td>\n",
       "      <td>1</td>\n",
       "      <td>0</td>\n",
       "      <td>33</td>\n",
       "    </tr>\n",
       "  </tbody>\n",
       "</table>\n",
       "</div>"
      ],
      "text/plain": [
       "            Date_time      Lat      Lon    Base  Month Weekday  Day  Hour  \\\n",
       "0 2024-04-01 00:11:00  40.7690 -73.9549  B02512  April  Monday    1     0   \n",
       "1 2024-04-01 00:17:00  40.7267 -74.0345  B02512  April  Monday    1     0   \n",
       "2 2024-04-01 00:21:00  40.7316 -73.9873  B02512  April  Monday    1     0   \n",
       "3 2024-04-01 00:28:00  40.7588 -73.9776  B02512  April  Monday    1     0   \n",
       "4 2024-04-01 00:33:00  40.7594 -73.9722  B02512  April  Monday    1     0   \n",
       "\n",
       "   Minute  \n",
       "0      11  \n",
       "1      17  \n",
       "2      21  \n",
       "3      28  \n",
       "4      33  "
      ]
     },
     "execution_count": 37,
     "metadata": {},
     "output_type": "execute_result"
    }
   ],
   "source": [
    "df.head()"
   ]
  },
  {
   "cell_type": "code",
   "execution_count": 40,
   "id": "1785345d-dacb-43dc-a59d-13830c75d0bb",
   "metadata": {},
   "outputs": [
    {
     "name": "stdout",
     "output_type": "stream",
     "text": [
      "<class 'pandas.core.frame.DataFrame'>\n",
      "RangeIndex: 4534327 entries, 0 to 4534326\n",
      "Data columns (total 9 columns):\n",
      " #   Column     Dtype         \n",
      "---  ------     -----         \n",
      " 0   Date_time  datetime64[ns]\n",
      " 1   Lat        float64       \n",
      " 2   Lon        float64       \n",
      " 3   Base       object        \n",
      " 4   Month      object        \n",
      " 5   Weekday    object        \n",
      " 6   Day        int32         \n",
      " 7   Hour       int32         \n",
      " 8   Minute     int32         \n",
      "dtypes: datetime64[ns](1), float64(2), int32(3), object(3)\n",
      "memory usage: 259.5+ MB\n"
     ]
    }
   ],
   "source": [
    "df.info()"
   ]
  },
  {
   "cell_type": "code",
   "execution_count": 42,
   "id": "423b5579-60b4-472a-94ef-b058efbb4368",
   "metadata": {},
   "outputs": [
    {
     "data": {
      "text/html": [
       "<div>\n",
       "<style scoped>\n",
       "    .dataframe tbody tr th:only-of-type {\n",
       "        vertical-align: middle;\n",
       "    }\n",
       "\n",
       "    .dataframe tbody tr th {\n",
       "        vertical-align: top;\n",
       "    }\n",
       "\n",
       "    .dataframe thead th {\n",
       "        text-align: right;\n",
       "    }\n",
       "</style>\n",
       "<table border=\"1\" class=\"dataframe\">\n",
       "  <thead>\n",
       "    <tr style=\"text-align: right;\">\n",
       "      <th></th>\n",
       "      <th>Date_time</th>\n",
       "      <th>Lat</th>\n",
       "      <th>Lon</th>\n",
       "      <th>Base</th>\n",
       "      <th>Month</th>\n",
       "      <th>Weekday</th>\n",
       "      <th>Day</th>\n",
       "      <th>Hour</th>\n",
       "      <th>Minute</th>\n",
       "    </tr>\n",
       "  </thead>\n",
       "  <tbody>\n",
       "    <tr>\n",
       "      <th>count</th>\n",
       "      <td>4534327</td>\n",
       "      <td>4.534327e+06</td>\n",
       "      <td>4.534327e+06</td>\n",
       "      <td>4534327</td>\n",
       "      <td>4534327</td>\n",
       "      <td>4534327</td>\n",
       "      <td>4.534327e+06</td>\n",
       "      <td>4.534327e+06</td>\n",
       "      <td>4.534327e+06</td>\n",
       "    </tr>\n",
       "    <tr>\n",
       "      <th>unique</th>\n",
       "      <td>NaN</td>\n",
       "      <td>NaN</td>\n",
       "      <td>NaN</td>\n",
       "      <td>5</td>\n",
       "      <td>6</td>\n",
       "      <td>7</td>\n",
       "      <td>NaN</td>\n",
       "      <td>NaN</td>\n",
       "      <td>NaN</td>\n",
       "    </tr>\n",
       "    <tr>\n",
       "      <th>top</th>\n",
       "      <td>NaN</td>\n",
       "      <td>NaN</td>\n",
       "      <td>NaN</td>\n",
       "      <td>B02617</td>\n",
       "      <td>September</td>\n",
       "      <td>Wednesday</td>\n",
       "      <td>NaN</td>\n",
       "      <td>NaN</td>\n",
       "      <td>NaN</td>\n",
       "    </tr>\n",
       "    <tr>\n",
       "      <th>freq</th>\n",
       "      <td>NaN</td>\n",
       "      <td>NaN</td>\n",
       "      <td>NaN</td>\n",
       "      <td>1458853</td>\n",
       "      <td>1028136</td>\n",
       "      <td>755145</td>\n",
       "      <td>NaN</td>\n",
       "      <td>NaN</td>\n",
       "      <td>NaN</td>\n",
       "    </tr>\n",
       "    <tr>\n",
       "      <th>mean</th>\n",
       "      <td>2024-07-11 18:50:50.578150912</td>\n",
       "      <td>4.073926e+01</td>\n",
       "      <td>-7.397302e+01</td>\n",
       "      <td>NaN</td>\n",
       "      <td>NaN</td>\n",
       "      <td>NaN</td>\n",
       "      <td>1.594337e+01</td>\n",
       "      <td>1.421831e+01</td>\n",
       "      <td>2.940071e+01</td>\n",
       "    </tr>\n",
       "    <tr>\n",
       "      <th>min</th>\n",
       "      <td>2024-04-01 00:00:00</td>\n",
       "      <td>3.965690e+01</td>\n",
       "      <td>-7.492900e+01</td>\n",
       "      <td>NaN</td>\n",
       "      <td>NaN</td>\n",
       "      <td>NaN</td>\n",
       "      <td>1.000000e+00</td>\n",
       "      <td>0.000000e+00</td>\n",
       "      <td>0.000000e+00</td>\n",
       "    </tr>\n",
       "    <tr>\n",
       "      <th>25%</th>\n",
       "      <td>2024-05-28 15:18:00</td>\n",
       "      <td>4.072110e+01</td>\n",
       "      <td>-7.399650e+01</td>\n",
       "      <td>NaN</td>\n",
       "      <td>NaN</td>\n",
       "      <td>NaN</td>\n",
       "      <td>9.000000e+00</td>\n",
       "      <td>1.000000e+01</td>\n",
       "      <td>1.400000e+01</td>\n",
       "    </tr>\n",
       "    <tr>\n",
       "      <th>50%</th>\n",
       "      <td>2024-07-17 14:45:00</td>\n",
       "      <td>4.074220e+01</td>\n",
       "      <td>-7.398340e+01</td>\n",
       "      <td>NaN</td>\n",
       "      <td>NaN</td>\n",
       "      <td>NaN</td>\n",
       "      <td>1.600000e+01</td>\n",
       "      <td>1.500000e+01</td>\n",
       "      <td>2.900000e+01</td>\n",
       "    </tr>\n",
       "    <tr>\n",
       "      <th>75%</th>\n",
       "      <td>2024-08-27 21:55:00</td>\n",
       "      <td>4.076100e+01</td>\n",
       "      <td>-7.396530e+01</td>\n",
       "      <td>NaN</td>\n",
       "      <td>NaN</td>\n",
       "      <td>NaN</td>\n",
       "      <td>2.300000e+01</td>\n",
       "      <td>1.900000e+01</td>\n",
       "      <td>4.400000e+01</td>\n",
       "    </tr>\n",
       "    <tr>\n",
       "      <th>max</th>\n",
       "      <td>2024-09-30 22:59:00</td>\n",
       "      <td>4.211660e+01</td>\n",
       "      <td>-7.206660e+01</td>\n",
       "      <td>NaN</td>\n",
       "      <td>NaN</td>\n",
       "      <td>NaN</td>\n",
       "      <td>3.100000e+01</td>\n",
       "      <td>2.300000e+01</td>\n",
       "      <td>5.900000e+01</td>\n",
       "    </tr>\n",
       "    <tr>\n",
       "      <th>std</th>\n",
       "      <td>NaN</td>\n",
       "      <td>3.994991e-02</td>\n",
       "      <td>5.726670e-02</td>\n",
       "      <td>NaN</td>\n",
       "      <td>NaN</td>\n",
       "      <td>NaN</td>\n",
       "      <td>8.744902e+00</td>\n",
       "      <td>5.958759e+00</td>\n",
       "      <td>1.732238e+01</td>\n",
       "    </tr>\n",
       "  </tbody>\n",
       "</table>\n",
       "</div>"
      ],
      "text/plain": [
       "                            Date_time           Lat           Lon     Base  \\\n",
       "count                         4534327  4.534327e+06  4.534327e+06  4534327   \n",
       "unique                            NaN           NaN           NaN        5   \n",
       "top                               NaN           NaN           NaN   B02617   \n",
       "freq                              NaN           NaN           NaN  1458853   \n",
       "mean    2024-07-11 18:50:50.578150912  4.073926e+01 -7.397302e+01      NaN   \n",
       "min               2024-04-01 00:00:00  3.965690e+01 -7.492900e+01      NaN   \n",
       "25%               2024-05-28 15:18:00  4.072110e+01 -7.399650e+01      NaN   \n",
       "50%               2024-07-17 14:45:00  4.074220e+01 -7.398340e+01      NaN   \n",
       "75%               2024-08-27 21:55:00  4.076100e+01 -7.396530e+01      NaN   \n",
       "max               2024-09-30 22:59:00  4.211660e+01 -7.206660e+01      NaN   \n",
       "std                               NaN  3.994991e-02  5.726670e-02      NaN   \n",
       "\n",
       "            Month    Weekday           Day          Hour        Minute  \n",
       "count     4534327    4534327  4.534327e+06  4.534327e+06  4.534327e+06  \n",
       "unique          6          7           NaN           NaN           NaN  \n",
       "top     September  Wednesday           NaN           NaN           NaN  \n",
       "freq      1028136     755145           NaN           NaN           NaN  \n",
       "mean          NaN        NaN  1.594337e+01  1.421831e+01  2.940071e+01  \n",
       "min           NaN        NaN  1.000000e+00  0.000000e+00  0.000000e+00  \n",
       "25%           NaN        NaN  9.000000e+00  1.000000e+01  1.400000e+01  \n",
       "50%           NaN        NaN  1.600000e+01  1.500000e+01  2.900000e+01  \n",
       "75%           NaN        NaN  2.300000e+01  1.900000e+01  4.400000e+01  \n",
       "max           NaN        NaN  3.100000e+01  2.300000e+01  5.900000e+01  \n",
       "std           NaN        NaN  8.744902e+00  5.958759e+00  1.732238e+01  "
      ]
     },
     "execution_count": 42,
     "metadata": {},
     "output_type": "execute_result"
    }
   ],
   "source": [
    "df.describe(include = 'all')"
   ]
  },
  {
   "cell_type": "markdown",
   "id": "8f8083a4-18d0-4336-a252-a632b1bf66af",
   "metadata": {},
   "source": [
    "## 2 Exploration and Visualization"
   ]
  },
  {
   "cell_type": "markdown",
   "id": "9d9b3826-7ff5-437d-a3d0-c5c9eb051624",
   "metadata": {},
   "source": [
    "Through our exploration we are going to visualize and analyse:\n",
    "- The number of trips by hour\n",
    "- The number of trips by month\n",
    "- The number of trips by weekday\n",
    "- The number of trips by day\n",
    "\n",
    "\n",
    "- The number of trips by hour and month\n",
    "- The number of trips by weekday and hour\n",
    "- The number of trips by weekday and month\n",
    "\n"
   ]
  },
  {
   "cell_type": "markdown",
   "id": "2a0cbfaf-face-42a7-ae33-fc61bad2a662",
   "metadata": {},
   "source": [
    "### 2.1 Trips by hour"
   ]
  },
  {
   "cell_type": "code",
   "execution_count": 49,
   "id": "1a719522-3f77-47cd-960b-d86fd763c8ee",
   "metadata": {},
   "outputs": [],
   "source": [
    "#Grouping by Hour \n",
    "df_hour_grouped = df.groupby(['Hour']).count()"
   ]
  },
  {
   "cell_type": "code",
   "execution_count": 51,
   "id": "a455ec1e-9445-4f3a-aab6-a01f4adb1d48",
   "metadata": {},
   "outputs": [
    {
     "data": {
      "text/html": [
       "<div>\n",
       "<style scoped>\n",
       "    .dataframe tbody tr th:only-of-type {\n",
       "        vertical-align: middle;\n",
       "    }\n",
       "\n",
       "    .dataframe tbody tr th {\n",
       "        vertical-align: top;\n",
       "    }\n",
       "\n",
       "    .dataframe thead th {\n",
       "        text-align: right;\n",
       "    }\n",
       "</style>\n",
       "<table border=\"1\" class=\"dataframe\">\n",
       "  <thead>\n",
       "    <tr style=\"text-align: right;\">\n",
       "      <th></th>\n",
       "      <th>Number_of_trips</th>\n",
       "    </tr>\n",
       "    <tr>\n",
       "      <th>Hour</th>\n",
       "      <th></th>\n",
       "    </tr>\n",
       "  </thead>\n",
       "  <tbody>\n",
       "    <tr>\n",
       "      <th>0</th>\n",
       "      <td>103836</td>\n",
       "    </tr>\n",
       "    <tr>\n",
       "      <th>1</th>\n",
       "      <td>67227</td>\n",
       "    </tr>\n",
       "    <tr>\n",
       "      <th>2</th>\n",
       "      <td>45865</td>\n",
       "    </tr>\n",
       "    <tr>\n",
       "      <th>3</th>\n",
       "      <td>48287</td>\n",
       "    </tr>\n",
       "    <tr>\n",
       "      <th>4</th>\n",
       "      <td>55230</td>\n",
       "    </tr>\n",
       "  </tbody>\n",
       "</table>\n",
       "</div>"
      ],
      "text/plain": [
       "      Number_of_trips\n",
       "Hour                 \n",
       "0              103836\n",
       "1               67227\n",
       "2               45865\n",
       "3               48287\n",
       "4               55230"
      ]
     },
     "execution_count": 51,
     "metadata": {},
     "output_type": "execute_result"
    }
   ],
   "source": [
    "#Creating the sub dataframe\n",
    "df_hour = pd.DataFrame({'Number_of_trips':df_hour_grouped.values[:,0]}, index = df_hour_grouped.index) \n",
    "\n",
    "df_hour.head()"
   ]
  },
  {
   "cell_type": "markdown",
   "id": "857e8225-23de-44e4-9df9-dca2fe577a89",
   "metadata": {},
   "source": [
    "#### Plotting the results"
   ]
  },
  {
   "cell_type": "code",
   "execution_count": 54,
   "id": "bec790cc-3bc9-4110-abd6-9f271c32c879",
   "metadata": {},
   "outputs": [
    {
     "data": {
      "image/png": "[encoded data removed]",
      "text/plain": [
       "<Figure size 800x600 with 1 Axes>"
      ]
     },
     "metadata": {},
     "output_type": "display_data"
    }
   ],
   "source": [
    "df_hour.plot(kind='bar', figsize=(8,6))\n",
    "\n",
    "plt.ylabel('Number of Trips')\n",
    "plt.title('Trips by Hour')\n",
    "\n",
    "plt.show()"
   ]
  },
  {
   "cell_type": "markdown",
   "id": "dd6a110a-ffd2-4780-8387-254c0443c441",
   "metadata": {},
   "source": [
    "#### Analysing the results"
   ]
  },
  {
   "cell_type": "code",
   "execution_count": 59,
   "id": "eda232ca-7d29-4956-9962-a94f55512807",
   "metadata": {},
   "outputs": [
    {
     "name": "stdout",
     "output_type": "stream",
     "text": [
      "The highest number of trips by hour is 336190 trip, that corresponds to the peak hour 17:00.\n"
     ]
    }
   ],
   "source": [
    "#The highest number of trips by hour\n",
    "max_Number_of_trips_hour = max(df_hour['Number_of_trips'])\n",
    "max_hour = df_hour[df_hour['Number_of_trips'] == 336190].index[0]\n",
    "\n",
    "print('The highest number of trips by hour is {} trip, that corresponds to the peak hour {}:00.'.format(max_Number_of_trips_hour, max_hour))\n"
   ]
  },
  {
   "cell_type": "markdown",
   "id": "0b894cd8-3613-4014-a5d4-a77f9eaa97e8",
   "metadata": {},
   "source": [
    "We observe that the number of trips are higher around 16:00 and 18:00, with a spike at 17:00. It matches the end of a working day in the United States (16:30), the time when the workers go home. \n",
    "\n",
    "We can say that the majority of Uber's clients are workers."
   ]
  },
  {
   "cell_type": "markdown",
   "id": "ef86aecd-3598-495b-85df-250c0bf050aa",
   "metadata": {},
   "source": [
    "### 2.2 Trips by month"
   ]
  },
  {
   "cell_type": "code",
   "execution_count": 63,
   "id": "f21e98cf-4c6e-4d22-aecc-36dabad2956f",
   "metadata": {},
   "outputs": [],
   "source": [
    "#Grouping by Month \n",
    "df_month_grouped = df.groupby(['Month'], sort=False).count()"
   ]
  },
  {
   "cell_type": "code",
   "execution_count": 65,
   "id": "a9d0a2c6-dd2d-41a8-8598-66e6f7c9482a",
   "metadata": {},
   "outputs": [
    {
     "data": {
      "text/html": [
       "<div>\n",
       "<style scoped>\n",
       "    .dataframe tbody tr th:only-of-type {\n",
       "        vertical-align: middle;\n",
       "    }\n",
       "\n",
       "    .dataframe tbody tr th {\n",
       "        vertical-align: top;\n",
       "    }\n",
       "\n",
       "    .dataframe thead th {\n",
       "        text-align: right;\n",
       "    }\n",
       "</style>\n",
       "<table border=\"1\" class=\"dataframe\">\n",
       "  <thead>\n",
       "    <tr style=\"text-align: right;\">\n",
       "      <th></th>\n",
       "      <th>Number_of_trips</th>\n",
       "    </tr>\n",
       "    <tr>\n",
       "      <th>Month</th>\n",
       "      <th></th>\n",
       "    </tr>\n",
       "  </thead>\n",
       "  <tbody>\n",
       "    <tr>\n",
       "      <th>April</th>\n",
       "      <td>564516</td>\n",
       "    </tr>\n",
       "    <tr>\n",
       "      <th>May</th>\n",
       "      <td>652435</td>\n",
       "    </tr>\n",
       "    <tr>\n",
       "      <th>June</th>\n",
       "      <td>663844</td>\n",
       "    </tr>\n",
       "    <tr>\n",
       "      <th>July</th>\n",
       "      <td>796121</td>\n",
       "    </tr>\n",
       "    <tr>\n",
       "      <th>August</th>\n",
       "      <td>829275</td>\n",
       "    </tr>\n",
       "    <tr>\n",
       "      <th>September</th>\n",
       "      <td>1028136</td>\n",
       "    </tr>\n",
       "  </tbody>\n",
       "</table>\n",
       "</div>"
      ],
      "text/plain": [
       "           Number_of_trips\n",
       "Month                     \n",
       "April               564516\n",
       "May                 652435\n",
       "June                663844\n",
       "July                796121\n",
       "August              829275\n",
       "September          1028136"
      ]
     },
     "execution_count": 65,
     "metadata": {},
     "output_type": "execute_result"
    }
   ],
   "source": [
    "#Creating the sub dataframe\n",
    "df_month = pd.DataFrame({'Number_of_trips':df_month_grouped.values[:,0]}, index = df_month_grouped.index) \n",
    "\n",
    "df_month"
   ]
  },
  {
   "cell_type": "markdown",
   "id": "1269c21d-5045-4f5c-9486-e43b6e508521",
   "metadata": {},
   "source": [
    "#### Plotting the results"
   ]
  },
  {
   "cell_type": "code",
   "execution_count": 68,
   "id": "6525e99d-5a81-4ed5-9c7c-5997d6bda039",
   "metadata": {},
   "outputs": [
    {
     "data": {
      "image/png": "[encoded data removed]",
      "text/plain": [
       "<Figure size 800x600 with 1 Axes>"
      ]
     },
     "metadata": {},
     "output_type": "display_data"
    }
   ],
   "source": [
    "df_month.plot(kind='bar', figsize=(8,6))\n",
    "\n",
    "plt.ylabel('Number of Trips')\n",
    "plt.title('Trips by Month')\n",
    "\n",
    "plt.show()"
   ]
  },
  {
   "cell_type": "markdown",
   "id": "7ce31ce8-9578-49d8-802d-51167b348f00",
   "metadata": {},
   "source": [
    "#### Analysing the results"
   ]
  },
  {
   "cell_type": "markdown",
   "id": "571a3f93-89f7-4e49-81e4-0d5f6163502c",
   "metadata": {},
   "source": [
    "We observe that the number of trips increases each month, with a peak increase between August and September."
   ]
  },
  {
   "cell_type": "code",
   "execution_count": 74,
   "id": "ecc82c77-3cd7-4f23-8050-625870143507",
   "metadata": {},
   "outputs": [
    {
     "name": "stdout",
     "output_type": "stream",
     "text": [
      "The ratio of the increase from August to September is 24 %.\n"
     ]
    }
   ],
   "source": [
    "number_of_trips_aug = df_month.loc['August'].values\n",
    "number_of_trips_sep = df_month.loc['September'].values\n",
    "\n",
    "ratio_month = (((number_of_trips_sep - number_of_trips_aug) / number_of_trips_aug) * 100)[0]\n",
    "ratio_month = round(ratio_month)\n",
    "\n",
    "print('The ratio of the increase from August to September is {} %.'.format(ratio_month))\n"
   ]
  },
  {
   "cell_type": "markdown",
   "id": "cdb75746-64b4-4ec5-9868-f8ad83fcd5c5",
   "metadata": {},
   "source": [
    "From our results we can say that from April to September 2014, Uber was in a continuous improvement process.\n"
   ]
  },
  {
   "cell_type": "markdown",
   "id": "8441ff1a-5ee3-4978-a6a8-2ee367d1ec1c",
   "metadata": {},
   "source": [
    "### 2.3 Trips by weekday"
   ]
  },
  {
   "cell_type": "code",
   "execution_count": 79,
   "id": "cbacc83a-550d-4531-92e3-48b0beea1a66",
   "metadata": {},
   "outputs": [],
   "source": [
    "#Grouping by Weekday\n",
    "df_weekday_grouped = df.groupby(['Weekday'], sort = False).count()\n"
   ]
  },
  {
   "cell_type": "code",
   "execution_count": 81,
   "id": "d6b5971e-bde5-4c05-b9be-b9485f189333",
   "metadata": {},
   "outputs": [
    {
     "data": {
      "text/html": [
       "<div>\n",
       "<style scoped>\n",
       "    .dataframe tbody tr th:only-of-type {\n",
       "        vertical-align: middle;\n",
       "    }\n",
       "\n",
       "    .dataframe tbody tr th {\n",
       "        vertical-align: top;\n",
       "    }\n",
       "\n",
       "    .dataframe thead th {\n",
       "        text-align: right;\n",
       "    }\n",
       "</style>\n",
       "<table border=\"1\" class=\"dataframe\">\n",
       "  <thead>\n",
       "    <tr style=\"text-align: right;\">\n",
       "      <th></th>\n",
       "      <th>Number_of_trips</th>\n",
       "    </tr>\n",
       "    <tr>\n",
       "      <th>Weekday</th>\n",
       "      <th></th>\n",
       "    </tr>\n",
       "  </thead>\n",
       "  <tbody>\n",
       "    <tr>\n",
       "      <th>Monday</th>\n",
       "      <td>663789</td>\n",
       "    </tr>\n",
       "    <tr>\n",
       "      <th>Tuesday</th>\n",
       "      <td>696488</td>\n",
       "    </tr>\n",
       "    <tr>\n",
       "      <th>Wednesday</th>\n",
       "      <td>755145</td>\n",
       "    </tr>\n",
       "    <tr>\n",
       "      <th>Thursday</th>\n",
       "      <td>741139</td>\n",
       "    </tr>\n",
       "    <tr>\n",
       "      <th>Friday</th>\n",
       "      <td>646114</td>\n",
       "    </tr>\n",
       "    <tr>\n",
       "      <th>Saturday</th>\n",
       "      <td>490180</td>\n",
       "    </tr>\n",
       "    <tr>\n",
       "      <th>Sunday</th>\n",
       "      <td>541472</td>\n",
       "    </tr>\n",
       "  </tbody>\n",
       "</table>\n",
       "</div>"
      ],
      "text/plain": [
       "           Number_of_trips\n",
       "Weekday                   \n",
       "Monday              663789\n",
       "Tuesday             696488\n",
       "Wednesday           755145\n",
       "Thursday            741139\n",
       "Friday              646114\n",
       "Saturday            490180\n",
       "Sunday              541472"
      ]
     },
     "execution_count": 81,
     "metadata": {},
     "output_type": "execute_result"
    }
   ],
   "source": [
    "#Creating the grouped DataFrame\n",
    "df_weekday = pd.DataFrame({'Number_of_trips':df_weekday_grouped.values[:,0]}, index = df_weekday_grouped.index) \n",
    "\n",
    "df_weekday"
   ]
  },
  {
   "cell_type": "markdown",
   "id": "79ba01a0-2d36-4080-8da3-985be10fef49",
   "metadata": {},
   "source": [
    "#### Plotting the results"
   ]
  },
  {
   "cell_type": "code",
   "execution_count": 84,
   "id": "13e8c82d-aef7-4aa0-ba2a-21a3b9ef632e",
   "metadata": {},
   "outputs": [
    {
     "data": {
      "image/png": "[encoded data removed]",
      "text/plain": [
       "<Figure size 800x600 with 1 Axes>"
      ]
     },
     "metadata": {},
     "output_type": "display_data"
    }
   ],
   "source": [
    "df_weekday.plot(kind='bar', figsize=(8,6))\n",
    "\n",
    "plt.ylabel('Number of Trips')\n",
    "plt.title('Trips by Weekday')\n",
    "\n",
    "plt.show()"
   ]
  },
  {
   "cell_type": "markdown",
   "id": "0fcad98a-53c9-46ac-91ae-5bb284244195",
   "metadata": {},
   "source": [
    "#### Analysing the results"
   ]
  },
  {
   "cell_type": "code",
   "execution_count": 87,
   "id": "b3dbaba3-6478-46f6-99cb-fc8b3a5d7fa5",
   "metadata": {},
   "outputs": [],
   "source": [
    "#Getting the minimum number of trips by weekday\n",
    "min_number_of_trips_weekday = min(df_weekday['Number_of_trips'])"
   ]
  },
  {
   "cell_type": "code",
   "execution_count": 89,
   "id": "1949a2cc-23ec-4db9-8a22-a20a9c529a05",
   "metadata": {},
   "outputs": [
    {
     "name": "stdout",
     "output_type": "stream",
     "text": [
      "The lowest number of trips by weekday is 490180 trip, that corresponds to Saturday.\n"
     ]
    }
   ],
   "source": [
    "#Getting the weekday where the number of trips is minimal\n",
    "min_weekday = df_weekday[df_weekday['Number_of_trips'] == min_number_of_trips_weekday].index[0]\n",
    "\n",
    "print('The lowest number of trips by weekday is {} trip, that corresponds to {}.'.format(min_number_of_trips_weekday, min_weekday))\n"
   ]
  },
  {
   "cell_type": "code",
   "execution_count": 91,
   "id": "6d935eea-3f25-4051-a03d-37b13164646a",
   "metadata": {},
   "outputs": [],
   "source": [
    "#Getting the mean number of trips in the weekend - Non working day\n",
    "mean_number_of_trips_weekend = ((df_weekday.loc['Saturday'] + df_weekday.loc['Sunday']) / 2).values"
   ]
  },
  {
   "cell_type": "code",
   "execution_count": 93,
   "id": "8f61c4c6-3fbc-430d-a7de-e47603fe568b",
   "metadata": {},
   "outputs": [
    {
     "name": "stdout",
     "output_type": "stream",
     "text": [
      "The mean number of trips during working days is 35.8% higher than the mean number of trips during weekends.\n"
     ]
    }
   ],
   "source": [
    "#Getting the mean number of trips for the rest of the week- Working day\n",
    "mean_number_of_trips_workday = (((df_weekday.loc['Monday'] + df_weekday.loc['Tuesday'] + df_weekday.loc['Wednesday'] + df_weekday.loc['Thursday'] + df_weekday.loc['Friday'])/ 5).values)[0]\n",
    "\n",
    "ratio_weekday = (((mean_number_of_trips_workday - mean_number_of_trips_weekend) / mean_number_of_trips_weekend) * 100)[0]\n",
    "ratio_weekday = round(ratio_weekday, 1)\n",
    "\n",
    "print('The mean number of trips during working days is {}% higher than the mean number of trips during weekends.'.format(ratio_weekday))"
   ]
  },
  {
   "cell_type": "markdown",
   "id": "edcfcedf-f6ad-4646-a288-9875884fe4ca",
   "metadata": {},
   "source": [
    "As the ratio between workdays and weekends only 19.6%, and because of the low number of trips on Monday, it cannot be said that people use Uber on workdays more than on weekends.\n",
    "\n",
    "We need to investigate more to find out why the number of trips on mondays is as low."
   ]
  },
  {
   "cell_type": "markdown",
   "id": "25580cfd-0ad8-473a-9a99-8979bcc287d2",
   "metadata": {},
   "source": [
    "### 2.4 Trips by day"
   ]
  },
  {
   "cell_type": "code",
   "execution_count": 97,
   "id": "429e0a64-65e4-47e5-89bb-9c52a849c719",
   "metadata": {},
   "outputs": [],
   "source": [
    "#Grouping by Day\n",
    "df_day_grouped = df.groupby(['Day']).count()"
   ]
  },
  {
   "cell_type": "code",
   "execution_count": 99,
   "id": "50e96534-bfba-40c1-8995-c19ae166adf2",
   "metadata": {},
   "outputs": [
    {
     "data": {
      "text/html": [
       "<div>\n",
       "<style scoped>\n",
       "    .dataframe tbody tr th:only-of-type {\n",
       "        vertical-align: middle;\n",
       "    }\n",
       "\n",
       "    .dataframe tbody tr th {\n",
       "        vertical-align: top;\n",
       "    }\n",
       "\n",
       "    .dataframe thead th {\n",
       "        text-align: right;\n",
       "    }\n",
       "</style>\n",
       "<table border=\"1\" class=\"dataframe\">\n",
       "  <thead>\n",
       "    <tr style=\"text-align: right;\">\n",
       "      <th></th>\n",
       "      <th>Number_of_trips</th>\n",
       "    </tr>\n",
       "    <tr>\n",
       "      <th>Day</th>\n",
       "      <th></th>\n",
       "    </tr>\n",
       "  </thead>\n",
       "  <tbody>\n",
       "    <tr>\n",
       "      <th>1</th>\n",
       "      <td>127430</td>\n",
       "    </tr>\n",
       "    <tr>\n",
       "      <th>2</th>\n",
       "      <td>143201</td>\n",
       "    </tr>\n",
       "    <tr>\n",
       "      <th>3</th>\n",
       "      <td>142983</td>\n",
       "    </tr>\n",
       "    <tr>\n",
       "      <th>4</th>\n",
       "      <td>140923</td>\n",
       "    </tr>\n",
       "    <tr>\n",
       "      <th>5</th>\n",
       "      <td>147054</td>\n",
       "    </tr>\n",
       "  </tbody>\n",
       "</table>\n",
       "</div>"
      ],
      "text/plain": [
       "     Number_of_trips\n",
       "Day                 \n",
       "1             127430\n",
       "2             143201\n",
       "3             142983\n",
       "4             140923\n",
       "5             147054"
      ]
     },
     "execution_count": 99,
     "metadata": {},
     "output_type": "execute_result"
    }
   ],
   "source": [
    "#Creating the grouped DataFrame\n",
    "df_day = pd.DataFrame({'Number_of_trips':df_day_grouped.values[:,0]}, index = df_day_grouped.index) \n",
    "\n",
    "df_day.head()"
   ]
  },
  {
   "cell_type": "markdown",
   "id": "ac712b33-4e07-4ec8-8881-6f968b261e0c",
   "metadata": {},
   "source": [
    "#### Plotting the results"
   ]
  },
  {
   "cell_type": "code",
   "execution_count": 102,
   "id": "c3b92973-17c7-4a44-9c9c-a9caf9be5d67",
   "metadata": {},
   "outputs": [
    {
     "data": {
      "image/png": "[encoded data removed]",
      "text/plain": [
       "<Figure size 1000x800 with 1 Axes>"
      ]
     },
     "metadata": {},
     "output_type": "display_data"
    }
   ],
   "source": [
    "df_day.plot(kind='bar', figsize=(10,8))\n",
    "\n",
    "plt.ylabel('Number of Trips')\n",
    "plt.title('Trips by Day')\n",
    "\n",
    "plt.show()"
   ]
  },
  {
   "cell_type": "markdown",
   "id": "6d89b150-b62b-42aa-9a23-44efa763c346",
   "metadata": {},
   "source": [
    "#### Analysing the results"
   ]
  },
  {
   "cell_type": "markdown",
   "id": "a6a30ab9-1628-493a-bd73-43a4340a6cc2",
   "metadata": {},
   "source": [
    "The number of trips for the day 31 is a lot less than the others because April, June and September have 30 days.\n",
    "\n",
    "The day with the highest number of trips is the 30. There's not much variation from day to day."
   ]
  },
  {
   "cell_type": "markdown",
   "id": "cf9f4e8b-6095-471e-8050-9d8e560b03a2",
   "metadata": {},
   "source": [
    "### 2.5 Trips by hour and month"
   ]
  },
  {
   "cell_type": "code",
   "execution_count": 107,
   "id": "f7078314-c9b2-43c1-b70c-4451432adc68",
   "metadata": {},
   "outputs": [],
   "source": [
    "#Grouping by Hour and Month\n",
    "df_hour_month_grouped = df.groupby(['Hour','Month']).count()"
   ]
  },
  {
   "cell_type": "code",
   "execution_count": 109,
   "id": "a921ef20-3476-4432-b89c-c8a717b82136",
   "metadata": {},
   "outputs": [
    {
     "data": {
      "text/html": [
       "<div>\n",
       "<style scoped>\n",
       "    .dataframe tbody tr th:only-of-type {\n",
       "        vertical-align: middle;\n",
       "    }\n",
       "\n",
       "    .dataframe tbody tr th {\n",
       "        vertical-align: top;\n",
       "    }\n",
       "\n",
       "    .dataframe thead th {\n",
       "        text-align: right;\n",
       "    }\n",
       "</style>\n",
       "<table border=\"1\" class=\"dataframe\">\n",
       "  <thead>\n",
       "    <tr style=\"text-align: right;\">\n",
       "      <th></th>\n",
       "      <th></th>\n",
       "      <th>Number_of_trips</th>\n",
       "    </tr>\n",
       "    <tr>\n",
       "      <th>Hour</th>\n",
       "      <th>Month</th>\n",
       "      <th></th>\n",
       "    </tr>\n",
       "  </thead>\n",
       "  <tbody>\n",
       "    <tr>\n",
       "      <th rowspan=\"6\" valign=\"top\">0</th>\n",
       "      <th>April</th>\n",
       "      <td>11910</td>\n",
       "    </tr>\n",
       "    <tr>\n",
       "      <th>August</th>\n",
       "      <td>21451</td>\n",
       "    </tr>\n",
       "    <tr>\n",
       "      <th>July</th>\n",
       "      <td>17953</td>\n",
       "    </tr>\n",
       "    <tr>\n",
       "      <th>June</th>\n",
       "      <td>14514</td>\n",
       "    </tr>\n",
       "    <tr>\n",
       "      <th>May</th>\n",
       "      <td>13875</td>\n",
       "    </tr>\n",
       "    <tr>\n",
       "      <th>September</th>\n",
       "      <td>24133</td>\n",
       "    </tr>\n",
       "    <tr>\n",
       "      <th rowspan=\"4\" valign=\"top\">1</th>\n",
       "      <th>April</th>\n",
       "      <td>7769</td>\n",
       "    </tr>\n",
       "    <tr>\n",
       "      <th>August</th>\n",
       "      <td>14471</td>\n",
       "    </tr>\n",
       "    <tr>\n",
       "      <th>July</th>\n",
       "      <td>11527</td>\n",
       "    </tr>\n",
       "    <tr>\n",
       "      <th>June</th>\n",
       "      <td>9167</td>\n",
       "    </tr>\n",
       "  </tbody>\n",
       "</table>\n",
       "</div>"
      ],
      "text/plain": [
       "                Number_of_trips\n",
       "Hour Month                     \n",
       "0    April                11910\n",
       "     August               21451\n",
       "     July                 17953\n",
       "     June                 14514\n",
       "     May                  13875\n",
       "     September            24133\n",
       "1    April                 7769\n",
       "     August               14471\n",
       "     July                 11527\n",
       "     June                  9167"
      ]
     },
     "execution_count": 109,
     "metadata": {},
     "output_type": "execute_result"
    }
   ],
   "source": [
    "#Creating the grouped DataFrame\n",
    "df_hour_month = pd.DataFrame({'Number_of_trips':df_hour_month_grouped.values[:,1]}, index = df_hour_month_grouped.index) \n",
    "\n",
    "df_hour_month.head(10)"
   ]
  },
  {
   "cell_type": "code",
   "execution_count": 111,
   "id": "3f33615b-5516-4ec3-9f2a-c71ebdc72644",
   "metadata": {},
   "outputs": [
    {
     "data": {
      "text/html": [
       "<div>\n",
       "<style scoped>\n",
       "    .dataframe tbody tr th:only-of-type {\n",
       "        vertical-align: middle;\n",
       "    }\n",
       "\n",
       "    .dataframe tbody tr th {\n",
       "        vertical-align: top;\n",
       "    }\n",
       "\n",
       "    .dataframe thead th {\n",
       "        text-align: right;\n",
       "    }\n",
       "</style>\n",
       "<table border=\"1\" class=\"dataframe\">\n",
       "  <thead>\n",
       "    <tr style=\"text-align: right;\">\n",
       "      <th></th>\n",
       "      <th>Hour</th>\n",
       "      <th>Month</th>\n",
       "      <th>Number_of_trips</th>\n",
       "    </tr>\n",
       "  </thead>\n",
       "  <tbody>\n",
       "    <tr>\n",
       "      <th>0</th>\n",
       "      <td>0</td>\n",
       "      <td>April</td>\n",
       "      <td>11910</td>\n",
       "    </tr>\n",
       "    <tr>\n",
       "      <th>1</th>\n",
       "      <td>0</td>\n",
       "      <td>August</td>\n",
       "      <td>21451</td>\n",
       "    </tr>\n",
       "    <tr>\n",
       "      <th>2</th>\n",
       "      <td>0</td>\n",
       "      <td>July</td>\n",
       "      <td>17953</td>\n",
       "    </tr>\n",
       "    <tr>\n",
       "      <th>3</th>\n",
       "      <td>0</td>\n",
       "      <td>June</td>\n",
       "      <td>14514</td>\n",
       "    </tr>\n",
       "    <tr>\n",
       "      <th>4</th>\n",
       "      <td>0</td>\n",
       "      <td>May</td>\n",
       "      <td>13875</td>\n",
       "    </tr>\n",
       "  </tbody>\n",
       "</table>\n",
       "</div>"
      ],
      "text/plain": [
       "   Hour   Month  Number_of_trips\n",
       "0     0   April            11910\n",
       "1     0  August            21451\n",
       "2     0    July            17953\n",
       "3     0    June            14514\n",
       "4     0     May            13875"
      ]
     },
     "execution_count": 111,
     "metadata": {},
     "output_type": "execute_result"
    }
   ],
   "source": [
    "#Reseting the Index\n",
    "df_hour_month.reset_index(inplace= True)\n",
    "df_hour_month.head()"
   ]
  },
  {
   "cell_type": "code",
   "execution_count": 113,
   "id": "914141b9-57d9-4bf7-9318-f66f0f05e536",
   "metadata": {},
   "outputs": [
    {
     "data": {
      "text/plain": [
       "array([[11910, 21451, 17953, 14514, 13875, 24133],\n",
       "       [ 7769, 14471, 11527,  9167,  8186, 16107],\n",
       "       [ 4935, 10105,  8562,  6189,  5372, 10702],\n",
       "       [ 5040, 10376,  9199,  6937,  5946, 10789],\n",
       "       [ 6095, 11774, 10040,  7701,  6945, 12675],\n",
       "       [ 9476, 16525, 14932, 11955, 10789, 20262],\n",
       "       [18498, 24907, 23456, 22030, 21015, 33307],\n",
       "       [24924, 34064, 32545, 30834, 27413, 43314],\n",
       "       [22843, 34566, 33387, 29771, 25460, 44477],\n",
       "       [17939, 30195, 28486, 24298, 20507, 38542],\n",
       "       [17865, 30706, 28558, 23584, 20801, 37634],\n",
       "       [18774, 31778, 30120, 24155, 22055, 38821],\n",
       "       [19425, 32106, 30900, 25233, 23595, 39193],\n",
       "       [22603, 35764, 35832, 28937, 27699, 45042],\n",
       "       [27190, 40644, 41357, 34428, 34363, 52643],\n",
       "       [35324, 48197, 46053, 41586, 43087, 61219],\n",
       "       [42003, 53481, 52403, 48162, 49127, 68224],\n",
       "       [45475, 57122, 58260, 50452, 51508, 73373],\n",
       "       [43003, 55390, 57268, 45013, 48965, 75040],\n",
       "       [38923, 53008, 52332, 38203, 42387, 69660],\n",
       "       [36244, 51674, 51859, 40108, 40731, 63988],\n",
       "       [36964, 51354, 49528, 40791, 42217, 60606],\n",
       "       [30645, 46008, 42218, 35614, 35556, 51817],\n",
       "       [20649, 33609, 29346, 24182, 24836, 36568]], dtype=int64)"
      ]
     },
     "execution_count": 113,
     "metadata": {},
     "output_type": "execute_result"
    }
   ],
   "source": [
    "#Preparing the Number of trips data\n",
    "#We create a Numpy array that includes the Number of trips data then reshape it to fit our \n",
    "data_hour_month = df_hour_month['Number_of_trips'].values.reshape(24,6)\n",
    "data_hour_month"
   ]
  },
  {
   "cell_type": "code",
   "execution_count": 115,
   "id": "b77d9f39-26f3-4c3e-ac96-aa2749400d2e",
   "metadata": {},
   "outputs": [
    {
     "data": {
      "text/html": [
       "<div>\n",
       "<style scoped>\n",
       "    .dataframe tbody tr th:only-of-type {\n",
       "        vertical-align: middle;\n",
       "    }\n",
       "\n",
       "    .dataframe tbody tr th {\n",
       "        vertical-align: top;\n",
       "    }\n",
       "\n",
       "    .dataframe thead th {\n",
       "        text-align: right;\n",
       "    }\n",
       "</style>\n",
       "<table border=\"1\" class=\"dataframe\">\n",
       "  <thead>\n",
       "    <tr style=\"text-align: right;\">\n",
       "      <th></th>\n",
       "      <th>April</th>\n",
       "      <th>May</th>\n",
       "      <th>June</th>\n",
       "      <th>July</th>\n",
       "      <th>August</th>\n",
       "      <th>September</th>\n",
       "    </tr>\n",
       "  </thead>\n",
       "  <tbody>\n",
       "    <tr>\n",
       "      <th>0</th>\n",
       "      <td>11910</td>\n",
       "      <td>21451</td>\n",
       "      <td>17953</td>\n",
       "      <td>14514</td>\n",
       "      <td>13875</td>\n",
       "      <td>24133</td>\n",
       "    </tr>\n",
       "    <tr>\n",
       "      <th>1</th>\n",
       "      <td>7769</td>\n",
       "      <td>14471</td>\n",
       "      <td>11527</td>\n",
       "      <td>9167</td>\n",
       "      <td>8186</td>\n",
       "      <td>16107</td>\n",
       "    </tr>\n",
       "    <tr>\n",
       "      <th>2</th>\n",
       "      <td>4935</td>\n",
       "      <td>10105</td>\n",
       "      <td>8562</td>\n",
       "      <td>6189</td>\n",
       "      <td>5372</td>\n",
       "      <td>10702</td>\n",
       "    </tr>\n",
       "    <tr>\n",
       "      <th>3</th>\n",
       "      <td>5040</td>\n",
       "      <td>10376</td>\n",
       "      <td>9199</td>\n",
       "      <td>6937</td>\n",
       "      <td>5946</td>\n",
       "      <td>10789</td>\n",
       "    </tr>\n",
       "    <tr>\n",
       "      <th>4</th>\n",
       "      <td>6095</td>\n",
       "      <td>11774</td>\n",
       "      <td>10040</td>\n",
       "      <td>7701</td>\n",
       "      <td>6945</td>\n",
       "      <td>12675</td>\n",
       "    </tr>\n",
       "  </tbody>\n",
       "</table>\n",
       "</div>"
      ],
      "text/plain": [
       "   April    May   June   July  August  September\n",
       "0  11910  21451  17953  14514   13875      24133\n",
       "1   7769  14471  11527   9167    8186      16107\n",
       "2   4935  10105   8562   6189    5372      10702\n",
       "3   5040  10376   9199   6937    5946      10789\n",
       "4   6095  11774  10040   7701    6945      12675"
      ]
     },
     "execution_count": 115,
     "metadata": {},
     "output_type": "execute_result"
    }
   ],
   "source": [
    "df_hour_month = pd.DataFrame(data = data_hour_month, index = df_hour_month['Hour'].unique(), columns = df['Month'].unique())\n",
    "df_hour_month.head()"
   ]
  },
  {
   "cell_type": "markdown",
   "id": "ab0f33f1-365d-41f9-9792-75ec8c8492ad",
   "metadata": {},
   "source": [
    "#### Plotting the results"
   ]
  },
  {
   "cell_type": "code",
   "execution_count": 118,
   "id": "668162c4-dcdd-44f7-b798-5e8467852b95",
   "metadata": {},
   "outputs": [
    {
     "data": {
      "image/png": "[encoded data removed]",
      "text/plain": [
       "<Figure size 800x600 with 1 Axes>"
      ]
     },
     "metadata": {},
     "output_type": "display_data"
    }
   ],
   "source": [
    "df_hour_month.plot(kind='bar', figsize=(8,6), stacked=True)\n",
    "\n",
    "plt.xlabel('Hour')\n",
    "plt.ylabel('Number of Trips')\n",
    "plt.title('Trips by Hour and Month')\n",
    "\n",
    "plt.show()"
   ]
  },
  {
   "cell_type": "code",
   "execution_count": 120,
   "id": "f6fbdae7-5697-4605-9040-1a50795f71c4",
   "metadata": {},
   "outputs": [
    {
     "data": {
      "image/png": "[encoded data removed]",
      "text/plain": [
       "<Figure size 2500x600 with 1 Axes>"
      ]
     },
     "metadata": {},
     "output_type": "display_data"
    }
   ],
   "source": [
    "df_hour_month.plot(kind='bar', figsize=(25,6),width=0.8)\n",
    "\n",
    "plt.xlabel('Hour')\n",
    "plt.ylabel('Number of Trips')\n",
    "plt.title('Trips by Hour and Month')\n",
    "\n",
    "plt.show()"
   ]
  },
  {
   "cell_type": "markdown",
   "id": "05425f1a-d4a2-40a4-b310-94c7243a921f",
   "metadata": {},
   "source": [
    "### 2.6 Trips by weekday and hour"
   ]
  },
  {
   "cell_type": "code",
   "execution_count": 123,
   "id": "483673eb-8fff-49a7-b1ed-f52674681e14",
   "metadata": {},
   "outputs": [],
   "source": [
    "#Grouping by Hour and weekday\n",
    "df_weekday_hour_grouped = df.groupby(['Weekday','Hour'], sort = False).count()"
   ]
  },
  {
   "cell_type": "code",
   "execution_count": 125,
   "id": "4c6a233c-3163-4ddd-89f4-ee97487fdad4",
   "metadata": {},
   "outputs": [
    {
     "data": {
      "text/html": [
       "<div>\n",
       "<style scoped>\n",
       "    .dataframe tbody tr th:only-of-type {\n",
       "        vertical-align: middle;\n",
       "    }\n",
       "\n",
       "    .dataframe tbody tr th {\n",
       "        vertical-align: top;\n",
       "    }\n",
       "\n",
       "    .dataframe thead th {\n",
       "        text-align: right;\n",
       "    }\n",
       "</style>\n",
       "<table border=\"1\" class=\"dataframe\">\n",
       "  <thead>\n",
       "    <tr style=\"text-align: right;\">\n",
       "      <th></th>\n",
       "      <th></th>\n",
       "      <th>Number_of_trips</th>\n",
       "    </tr>\n",
       "    <tr>\n",
       "      <th>Weekday</th>\n",
       "      <th>Hour</th>\n",
       "      <th></th>\n",
       "    </tr>\n",
       "  </thead>\n",
       "  <tbody>\n",
       "    <tr>\n",
       "      <th rowspan=\"5\" valign=\"top\">Monday</th>\n",
       "      <th>0</th>\n",
       "      <td>6237</td>\n",
       "    </tr>\n",
       "    <tr>\n",
       "      <th>1</th>\n",
       "      <td>3509</td>\n",
       "    </tr>\n",
       "    <tr>\n",
       "      <th>2</th>\n",
       "      <td>2571</td>\n",
       "    </tr>\n",
       "    <tr>\n",
       "      <th>3</th>\n",
       "      <td>4494</td>\n",
       "    </tr>\n",
       "    <tr>\n",
       "      <th>4</th>\n",
       "      <td>7548</td>\n",
       "    </tr>\n",
       "    <tr>\n",
       "      <th>...</th>\n",
       "      <th>...</th>\n",
       "      <td>...</td>\n",
       "    </tr>\n",
       "    <tr>\n",
       "      <th rowspan=\"5\" valign=\"top\">Sunday</th>\n",
       "      <th>19</th>\n",
       "      <td>34159</td>\n",
       "    </tr>\n",
       "    <tr>\n",
       "      <th>20</th>\n",
       "      <td>32849</td>\n",
       "    </tr>\n",
       "    <tr>\n",
       "      <th>21</th>\n",
       "      <td>28925</td>\n",
       "    </tr>\n",
       "    <tr>\n",
       "      <th>22</th>\n",
       "      <td>20158</td>\n",
       "    </tr>\n",
       "    <tr>\n",
       "      <th>23</th>\n",
       "      <td>11811</td>\n",
       "    </tr>\n",
       "  </tbody>\n",
       "</table>\n",
       "<p>168 rows × 1 columns</p>\n",
       "</div>"
      ],
      "text/plain": [
       "              Number_of_trips\n",
       "Weekday Hour                 \n",
       "Monday  0                6237\n",
       "        1                3509\n",
       "        2                2571\n",
       "        3                4494\n",
       "        4                7548\n",
       "...                       ...\n",
       "Sunday  19              34159\n",
       "        20              32849\n",
       "        21              28925\n",
       "        22              20158\n",
       "        23              11811\n",
       "\n",
       "[168 rows x 1 columns]"
      ]
     },
     "execution_count": 125,
     "metadata": {},
     "output_type": "execute_result"
    }
   ],
   "source": [
    "#Creating the grouped DataFrame\n",
    "df_weekday_hour = pd.DataFrame({'Number_of_trips':df_weekday_hour_grouped.values[:,1]}, index = df_weekday_hour_grouped.index) \n",
    "\n",
    "df_weekday_hour"
   ]
  },
  {
   "cell_type": "code",
   "execution_count": 127,
   "id": "2ce15967-8226-4dc3-9456-9e7c8b77a5d3",
   "metadata": {},
   "outputs": [],
   "source": [
    "#Reseting the Index\n",
    "df_weekday_hour.reset_index(inplace= True)"
   ]
  },
  {
   "cell_type": "code",
   "execution_count": 129,
   "id": "8f95c7f3-4fc7-4811-9834-ce17dcfc189c",
   "metadata": {},
   "outputs": [
    {
     "data": {
      "text/html": [
       "<div>\n",
       "<style scoped>\n",
       "    .dataframe tbody tr th:only-of-type {\n",
       "        vertical-align: middle;\n",
       "    }\n",
       "\n",
       "    .dataframe tbody tr th {\n",
       "        vertical-align: top;\n",
       "    }\n",
       "\n",
       "    .dataframe thead th {\n",
       "        text-align: right;\n",
       "    }\n",
       "</style>\n",
       "<table border=\"1\" class=\"dataframe\">\n",
       "  <thead>\n",
       "    <tr style=\"text-align: right;\">\n",
       "      <th></th>\n",
       "      <th>0</th>\n",
       "      <th>1</th>\n",
       "      <th>2</th>\n",
       "      <th>3</th>\n",
       "      <th>4</th>\n",
       "      <th>5</th>\n",
       "      <th>6</th>\n",
       "      <th>7</th>\n",
       "      <th>8</th>\n",
       "      <th>9</th>\n",
       "      <th>...</th>\n",
       "      <th>14</th>\n",
       "      <th>15</th>\n",
       "      <th>16</th>\n",
       "      <th>17</th>\n",
       "      <th>18</th>\n",
       "      <th>19</th>\n",
       "      <th>20</th>\n",
       "      <th>21</th>\n",
       "      <th>22</th>\n",
       "      <th>23</th>\n",
       "    </tr>\n",
       "  </thead>\n",
       "  <tbody>\n",
       "    <tr>\n",
       "      <th>Monday</th>\n",
       "      <td>6237</td>\n",
       "      <td>3509</td>\n",
       "      <td>2571</td>\n",
       "      <td>4494</td>\n",
       "      <td>7548</td>\n",
       "      <td>14241</td>\n",
       "      <td>26872</td>\n",
       "      <td>36599</td>\n",
       "      <td>33934</td>\n",
       "      <td>25023</td>\n",
       "      <td>...</td>\n",
       "      <td>34846</td>\n",
       "      <td>41338</td>\n",
       "      <td>48667</td>\n",
       "      <td>55500</td>\n",
       "      <td>50186</td>\n",
       "      <td>44789</td>\n",
       "      <td>44661</td>\n",
       "      <td>39913</td>\n",
       "      <td>27712</td>\n",
       "      <td>14869</td>\n",
       "    </tr>\n",
       "    <tr>\n",
       "      <th>Tuesday</th>\n",
       "      <td>7644</td>\n",
       "      <td>4324</td>\n",
       "      <td>3141</td>\n",
       "      <td>4855</td>\n",
       "      <td>7511</td>\n",
       "      <td>13794</td>\n",
       "      <td>26943</td>\n",
       "      <td>36495</td>\n",
       "      <td>33826</td>\n",
       "      <td>25635</td>\n",
       "      <td>...</td>\n",
       "      <td>35148</td>\n",
       "      <td>43388</td>\n",
       "      <td>50684</td>\n",
       "      <td>55637</td>\n",
       "      <td>52732</td>\n",
       "      <td>47017</td>\n",
       "      <td>47772</td>\n",
       "      <td>44553</td>\n",
       "      <td>32868</td>\n",
       "      <td>18146</td>\n",
       "    </tr>\n",
       "    <tr>\n",
       "      <th>Wednesday</th>\n",
       "      <td>9293</td>\n",
       "      <td>5290</td>\n",
       "      <td>3719</td>\n",
       "      <td>5637</td>\n",
       "      <td>8505</td>\n",
       "      <td>14169</td>\n",
       "      <td>27065</td>\n",
       "      <td>37038</td>\n",
       "      <td>35431</td>\n",
       "      <td>27812</td>\n",
       "      <td>...</td>\n",
       "      <td>36699</td>\n",
       "      <td>44442</td>\n",
       "      <td>50560</td>\n",
       "      <td>56704</td>\n",
       "      <td>55825</td>\n",
       "      <td>51907</td>\n",
       "      <td>51990</td>\n",
       "      <td>51953</td>\n",
       "      <td>44194</td>\n",
       "      <td>27764</td>\n",
       "    </tr>\n",
       "    <tr>\n",
       "      <th>Thursday</th>\n",
       "      <td>13716</td>\n",
       "      <td>8163</td>\n",
       "      <td>5350</td>\n",
       "      <td>6930</td>\n",
       "      <td>8806</td>\n",
       "      <td>13450</td>\n",
       "      <td>23412</td>\n",
       "      <td>32061</td>\n",
       "      <td>31509</td>\n",
       "      <td>25230</td>\n",
       "      <td>...</td>\n",
       "      <td>36206</td>\n",
       "      <td>43673</td>\n",
       "      <td>48169</td>\n",
       "      <td>51961</td>\n",
       "      <td>54762</td>\n",
       "      <td>49595</td>\n",
       "      <td>43542</td>\n",
       "      <td>48323</td>\n",
       "      <td>49409</td>\n",
       "      <td>41260</td>\n",
       "    </tr>\n",
       "    <tr>\n",
       "      <th>Friday</th>\n",
       "      <td>27633</td>\n",
       "      <td>19189</td>\n",
       "      <td>12710</td>\n",
       "      <td>9542</td>\n",
       "      <td>6846</td>\n",
       "      <td>7084</td>\n",
       "      <td>8579</td>\n",
       "      <td>11014</td>\n",
       "      <td>14411</td>\n",
       "      <td>17669</td>\n",
       "      <td>...</td>\n",
       "      <td>31418</td>\n",
       "      <td>38769</td>\n",
       "      <td>43512</td>\n",
       "      <td>42844</td>\n",
       "      <td>45883</td>\n",
       "      <td>41098</td>\n",
       "      <td>38714</td>\n",
       "      <td>43826</td>\n",
       "      <td>47951</td>\n",
       "      <td>43174</td>\n",
       "    </tr>\n",
       "  </tbody>\n",
       "</table>\n",
       "<p>5 rows × 24 columns</p>\n",
       "</div>"
      ],
      "text/plain": [
       "              0      1      2     3     4      5      6      7      8      9   \\\n",
       "Monday      6237   3509   2571  4494  7548  14241  26872  36599  33934  25023   \n",
       "Tuesday     7644   4324   3141  4855  7511  13794  26943  36495  33826  25635   \n",
       "Wednesday   9293   5290   3719  5637  8505  14169  27065  37038  35431  27812   \n",
       "Thursday   13716   8163   5350  6930  8806  13450  23412  32061  31509  25230   \n",
       "Friday     27633  19189  12710  9542  6846   7084   8579  11014  14411  17669   \n",
       "\n",
       "           ...     14     15     16     17     18     19     20     21     22  \\\n",
       "Monday     ...  34846  41338  48667  55500  50186  44789  44661  39913  27712   \n",
       "Tuesday    ...  35148  43388  50684  55637  52732  47017  47772  44553  32868   \n",
       "Wednesday  ...  36699  44442  50560  56704  55825  51907  51990  51953  44194   \n",
       "Thursday   ...  36206  43673  48169  51961  54762  49595  43542  48323  49409   \n",
       "Friday     ...  31418  38769  43512  42844  45883  41098  38714  43826  47951   \n",
       "\n",
       "              23  \n",
       "Monday     14869  \n",
       "Tuesday    18146  \n",
       "Wednesday  27764  \n",
       "Thursday   41260  \n",
       "Friday     43174  \n",
       "\n",
       "[5 rows x 24 columns]"
      ]
     },
     "execution_count": 129,
     "metadata": {},
     "output_type": "execute_result"
    }
   ],
   "source": [
    "#Preparing the Number of trips data\n",
    "data_weekday_hour = df_weekday_hour['Number_of_trips'].values.reshape(7,24)\n",
    "\n",
    "df_weekday_hour = pd.DataFrame(data = data_weekday_hour, index = df_weekday_hour['Weekday'].unique(), columns = df['Hour'].unique())\n",
    "df_weekday_hour.head()"
   ]
  },
  {
   "cell_type": "markdown",
   "id": "73d3699f-1216-4519-a03a-365889497d4c",
   "metadata": {},
   "source": [
    "#### Plotting the results"
   ]
  },
  {
   "cell_type": "code",
   "execution_count": 132,
   "id": "7e0c695c-0a8f-48d8-8878-3e5a43967538",
   "metadata": {},
   "outputs": [
    {
     "data": {
      "image/png": "[encoded data removed]",
      "text/plain": [
       "<Figure size 2000x600 with 1 Axes>"
      ]
     },
     "metadata": {},
     "output_type": "display_data"
    }
   ],
   "source": [
    "df_weekday_hour.plot(kind='bar', figsize=(20,6), width = 0.7)\n",
    "\n",
    "plt.xlabel('Weekday')\n",
    "plt.ylabel('Number of Trips')\n",
    "plt.title('Trips by Hour and Weekday')\n",
    "\n",
    "plt.show()"
   ]
  },
  {
   "cell_type": "markdown",
   "id": "1dea6e9f-547d-4e02-95ae-b1e58e6b1f54",
   "metadata": {},
   "source": [
    "#### Analysing the results"
   ]
  },
  {
   "cell_type": "markdown",
   "id": "1902ad8d-e669-4ec7-a04c-38be746a497d",
   "metadata": {},
   "source": [
    "We see that in working days there's a pulse at 7:00 and 8:00, it corresponds to the hour where the employees go to work. This pulse is not present on weekend days.\n",
    "\n",
    "At the same time we see that on weekend days the number of trips around midnight, 1:00 and 2:00 is higher than on working days."
   ]
  },
  {
   "cell_type": "markdown",
   "id": "0ccd8c3d-3d41-4808-9056-6e935756485a",
   "metadata": {},
   "source": [
    "### 2.7 Trips by weekday and month\n"
   ]
  },
  {
   "cell_type": "code",
   "execution_count": 140,
   "id": "43ad0ec7-f410-4044-87d9-d7e77866814d",
   "metadata": {},
   "outputs": [],
   "source": [
    "#Grouping by Weekday and Month\n",
    "df_month_weekday_grouped = df.groupby(['Month','Weekday'], sort=False).count()\n"
   ]
  },
  {
   "cell_type": "code",
   "execution_count": 142,
   "id": "cf1f5e60-1507-443b-b631-766c91ca991f",
   "metadata": {},
   "outputs": [
    {
     "data": {
      "text/html": [
       "<div>\n",
       "<style scoped>\n",
       "    .dataframe tbody tr th:only-of-type {\n",
       "        vertical-align: middle;\n",
       "    }\n",
       "\n",
       "    .dataframe tbody tr th {\n",
       "        vertical-align: top;\n",
       "    }\n",
       "\n",
       "    .dataframe thead th {\n",
       "        text-align: right;\n",
       "    }\n",
       "</style>\n",
       "<table border=\"1\" class=\"dataframe\">\n",
       "  <thead>\n",
       "    <tr style=\"text-align: right;\">\n",
       "      <th></th>\n",
       "      <th></th>\n",
       "      <th>Number_of_trips</th>\n",
       "    </tr>\n",
       "    <tr>\n",
       "      <th>Month</th>\n",
       "      <th>Weekday</th>\n",
       "      <th></th>\n",
       "    </tr>\n",
       "  </thead>\n",
       "  <tbody>\n",
       "    <tr>\n",
       "      <th rowspan=\"7\" valign=\"top\">April</th>\n",
       "      <th>Monday</th>\n",
       "      <td>91185</td>\n",
       "    </tr>\n",
       "    <tr>\n",
       "      <th>Tuesday</th>\n",
       "      <td>108631</td>\n",
       "    </tr>\n",
       "    <tr>\n",
       "      <th>Wednesday</th>\n",
       "      <td>85067</td>\n",
       "    </tr>\n",
       "    <tr>\n",
       "      <th>Thursday</th>\n",
       "      <td>90303</td>\n",
       "    </tr>\n",
       "    <tr>\n",
       "      <th>Friday</th>\n",
       "      <td>77218</td>\n",
       "    </tr>\n",
       "    <tr>\n",
       "      <th>Saturday</th>\n",
       "      <td>51251</td>\n",
       "    </tr>\n",
       "    <tr>\n",
       "      <th>Sunday</th>\n",
       "      <td>60861</td>\n",
       "    </tr>\n",
       "    <tr>\n",
       "      <th rowspan=\"3\" valign=\"top\">May</th>\n",
       "      <th>Wednesday</th>\n",
       "      <td>128921</td>\n",
       "    </tr>\n",
       "    <tr>\n",
       "      <th>Thursday</th>\n",
       "      <td>133991</td>\n",
       "    </tr>\n",
       "    <tr>\n",
       "      <th>Friday</th>\n",
       "      <td>102990</td>\n",
       "    </tr>\n",
       "  </tbody>\n",
       "</table>\n",
       "</div>"
      ],
      "text/plain": [
       "                 Number_of_trips\n",
       "Month Weekday                   \n",
       "April Monday               91185\n",
       "      Tuesday             108631\n",
       "      Wednesday            85067\n",
       "      Thursday             90303\n",
       "      Friday               77218\n",
       "      Saturday             51251\n",
       "      Sunday               60861\n",
       "May   Wednesday           128921\n",
       "      Thursday            133991\n",
       "      Friday              102990"
      ]
     },
     "execution_count": 142,
     "metadata": {},
     "output_type": "execute_result"
    }
   ],
   "source": [
    "#Creating the grouped DataFrame\n",
    "df_month_weekday = pd.DataFrame({'Number_of_trips':df_month_weekday_grouped.values[:,1]}, index = df_month_weekday_grouped.index) \n",
    "\n",
    "df_month_weekday.head(10)"
   ]
  },
  {
   "cell_type": "code",
   "execution_count": 144,
   "id": "550a7fc1-9792-4c3e-af55-1cd6a28796c4",
   "metadata": {},
   "outputs": [],
   "source": [
    "#Reseting the Index\n",
    "df_month_weekday.reset_index(inplace= True)\n"
   ]
  },
  {
   "cell_type": "code",
   "execution_count": 146,
   "id": "9eeafd3a-1daf-4fb1-831e-e6b565460a54",
   "metadata": {},
   "outputs": [
    {
     "data": {
      "text/html": [
       "<div>\n",
       "<style scoped>\n",
       "    .dataframe tbody tr th:only-of-type {\n",
       "        vertical-align: middle;\n",
       "    }\n",
       "\n",
       "    .dataframe tbody tr th {\n",
       "        vertical-align: top;\n",
       "    }\n",
       "\n",
       "    .dataframe thead th {\n",
       "        text-align: right;\n",
       "    }\n",
       "</style>\n",
       "<table border=\"1\" class=\"dataframe\">\n",
       "  <thead>\n",
       "    <tr style=\"text-align: right;\">\n",
       "      <th></th>\n",
       "      <th>Monday</th>\n",
       "      <th>Tuesday</th>\n",
       "      <th>Wednesday</th>\n",
       "      <th>Thursday</th>\n",
       "      <th>Friday</th>\n",
       "      <th>Saturday</th>\n",
       "      <th>Sunday</th>\n",
       "    </tr>\n",
       "  </thead>\n",
       "  <tbody>\n",
       "    <tr>\n",
       "      <th>April</th>\n",
       "      <td>91185</td>\n",
       "      <td>108631</td>\n",
       "      <td>85067</td>\n",
       "      <td>90303</td>\n",
       "      <td>77218</td>\n",
       "      <td>51251</td>\n",
       "      <td>60861</td>\n",
       "    </tr>\n",
       "    <tr>\n",
       "      <th>May</th>\n",
       "      <td>128921</td>\n",
       "      <td>133991</td>\n",
       "      <td>102990</td>\n",
       "      <td>56168</td>\n",
       "      <td>63846</td>\n",
       "      <td>76662</td>\n",
       "      <td>89857</td>\n",
       "    </tr>\n",
       "    <tr>\n",
       "      <th>June</th>\n",
       "      <td>79656</td>\n",
       "      <td>94655</td>\n",
       "      <td>88134</td>\n",
       "      <td>99654</td>\n",
       "      <td>115325</td>\n",
       "      <td>105056</td>\n",
       "      <td>81364</td>\n",
       "    </tr>\n",
       "    <tr>\n",
       "      <th>July</th>\n",
       "      <td>137454</td>\n",
       "      <td>147717</td>\n",
       "      <td>148439</td>\n",
       "      <td>102735</td>\n",
       "      <td>90260</td>\n",
       "      <td>76327</td>\n",
       "      <td>93189</td>\n",
       "    </tr>\n",
       "    <tr>\n",
       "      <th>August</th>\n",
       "      <td>148674</td>\n",
       "      <td>132225</td>\n",
       "      <td>110246</td>\n",
       "      <td>91633</td>\n",
       "      <td>107124</td>\n",
       "      <td>115256</td>\n",
       "      <td>124117</td>\n",
       "    </tr>\n",
       "  </tbody>\n",
       "</table>\n",
       "</div>"
      ],
      "text/plain": [
       "        Monday  Tuesday  Wednesday  Thursday  Friday  Saturday  Sunday\n",
       "April    91185   108631      85067     90303   77218     51251   60861\n",
       "May     128921   133991     102990     56168   63846     76662   89857\n",
       "June     79656    94655      88134     99654  115325    105056   81364\n",
       "July    137454   147717     148439    102735   90260     76327   93189\n",
       "August  148674   132225     110246     91633  107124    115256  124117"
      ]
     },
     "execution_count": 146,
     "metadata": {},
     "output_type": "execute_result"
    }
   ],
   "source": [
    "#Preparing the Number of trips \n",
    "data_month_weekday = df_month_weekday['Number_of_trips'].values.reshape(6,7)\n",
    "\n",
    "df_month_weekday = pd.DataFrame(data = data_month_weekday, index = df_month_weekday['Month'].unique(), columns = df['Weekday'].unique())\n",
    "df_month_weekday.head()"
   ]
  },
  {
   "cell_type": "markdown",
   "id": "8236fc71-dac5-4861-96b1-f5569ec0e726",
   "metadata": {},
   "source": [
    "#### Plotting the results"
   ]
  },
  {
   "cell_type": "code",
   "execution_count": 149,
   "id": "d4dc03c3-4676-40a6-b300-ea9169a261f8",
   "metadata": {},
   "outputs": [
    {
     "data": {
      "image/png": "[encoded data removed]",
      "text/plain": [
       "<Figure size 800x600 with 1 Axes>"
      ]
     },
     "metadata": {},
     "output_type": "display_data"
    }
   ],
   "source": [
    "df_month_weekday.plot(kind='bar', figsize=(8,6), stacked = True)\n",
    "\n",
    "plt.xlabel('Month')\n",
    "plt.ylabel('Number of Trips')\n",
    "plt.title('Trips by Month and Weekday')\n",
    "\n",
    "plt.show()"
   ]
  },
  {
   "cell_type": "code",
   "execution_count": 151,
   "id": "f220997d-3c98-45fe-9b4f-c70c12e1ae6c",
   "metadata": {},
   "outputs": [
    {
     "data": {
      "image/png": "[encoded data removed]",
      "text/plain": [
       "<Figure size 1800x600 with 1 Axes>"
      ]
     },
     "metadata": {},
     "output_type": "display_data"
    }
   ],
   "source": [
    "df_month_weekday.plot(kind='bar', figsize=(18,6), width = 0.6)\n",
    "\n",
    "plt.xlabel('Month')\n",
    "plt.ylabel('Number of Trips')\n",
    "plt.title('Trips by Month and Weekday')\n",
    "\n",
    "plt.show()"
   ]
  },
  {
   "cell_type": "markdown",
   "id": "87bc91f0-8ce7-464a-8a54-ec79ff8754d6",
   "metadata": {},
   "source": [
    "# 3. Heatmap"
   ]
  },
  {
   "cell_type": "markdown",
   "id": "4532fe81-29f7-4176-9154-bead61ae4150",
   "metadata": {},
   "source": [
    "Through our exploration we are going to visualize:\n",
    "- Heatmap by Hour and Day.\n",
    "- Heatmap by Hour and Weekday.\n",
    "- Heatmap by Month and Day.\n",
    "- Heatmap by Month and Weekday."
   ]
  },
  {
   "cell_type": "code",
   "execution_count": 155,
   "id": "07e135ca-0042-4ca1-b52f-9957aa5bf6ab",
   "metadata": {},
   "outputs": [],
   "source": [
    "#Defining a function that counts the number of rows\n",
    "def count_rows(rows):\n",
    "    return len(rows)"
   ]
  },
  {
   "cell_type": "markdown",
   "id": "b5739919-a32a-41f0-8a0d-0aab8db9c19c",
   "metadata": {},
   "source": [
    "### 3.1 Heatmap by Hour and Day"
   ]
  },
  {
   "cell_type": "code",
   "execution_count": 158,
   "id": "741fdf44-5039-4d45-99f3-5d0883e95d90",
   "metadata": {},
   "outputs": [
    {
     "name": "stderr",
     "output_type": "stream",
     "text": [
      "C:\\Users\\91945\\AppData\\Local\\Temp\\ipykernel_13692\\1979233098.py:2: DeprecationWarning: DataFrameGroupBy.apply operated on the grouping columns. This behavior is deprecated, and in a future version of pandas the grouping columns will be excluded from the operation. Either pass `include_groups=False` to exclude the groupings or explicitly select the grouping columns after groupby to silence this warning.\n",
      "  df_hour_day = df.groupby('Hour Day'.split()).apply(count_rows).unstack()\n"
     ]
    },
    {
     "data": {
      "text/html": [
       "<div>\n",
       "<style scoped>\n",
       "    .dataframe tbody tr th:only-of-type {\n",
       "        vertical-align: middle;\n",
       "    }\n",
       "\n",
       "    .dataframe tbody tr th {\n",
       "        vertical-align: top;\n",
       "    }\n",
       "\n",
       "    .dataframe thead th {\n",
       "        text-align: right;\n",
       "    }\n",
       "</style>\n",
       "<table border=\"1\" class=\"dataframe\">\n",
       "  <thead>\n",
       "    <tr style=\"text-align: right;\">\n",
       "      <th>Day</th>\n",
       "      <th>1</th>\n",
       "      <th>2</th>\n",
       "      <th>3</th>\n",
       "      <th>4</th>\n",
       "      <th>5</th>\n",
       "      <th>6</th>\n",
       "      <th>7</th>\n",
       "      <th>8</th>\n",
       "      <th>9</th>\n",
       "      <th>10</th>\n",
       "      <th>...</th>\n",
       "      <th>22</th>\n",
       "      <th>23</th>\n",
       "      <th>24</th>\n",
       "      <th>25</th>\n",
       "      <th>26</th>\n",
       "      <th>27</th>\n",
       "      <th>28</th>\n",
       "      <th>29</th>\n",
       "      <th>30</th>\n",
       "      <th>31</th>\n",
       "    </tr>\n",
       "    <tr>\n",
       "      <th>Hour</th>\n",
       "      <th></th>\n",
       "      <th></th>\n",
       "      <th></th>\n",
       "      <th></th>\n",
       "      <th></th>\n",
       "      <th></th>\n",
       "      <th></th>\n",
       "      <th></th>\n",
       "      <th></th>\n",
       "      <th></th>\n",
       "      <th></th>\n",
       "      <th></th>\n",
       "      <th></th>\n",
       "      <th></th>\n",
       "      <th></th>\n",
       "      <th></th>\n",
       "      <th></th>\n",
       "      <th></th>\n",
       "      <th></th>\n",
       "      <th></th>\n",
       "      <th></th>\n",
       "    </tr>\n",
       "  </thead>\n",
       "  <tbody>\n",
       "    <tr>\n",
       "      <th>0</th>\n",
       "      <td>3247</td>\n",
       "      <td>2480</td>\n",
       "      <td>3415</td>\n",
       "      <td>2944</td>\n",
       "      <td>2786</td>\n",
       "      <td>4623</td>\n",
       "      <td>3715</td>\n",
       "      <td>2882</td>\n",
       "      <td>2708</td>\n",
       "      <td>3351</td>\n",
       "      <td>...</td>\n",
       "      <td>2852</td>\n",
       "      <td>2605</td>\n",
       "      <td>3277</td>\n",
       "      <td>2442</td>\n",
       "      <td>3887</td>\n",
       "      <td>5304</td>\n",
       "      <td>4224</td>\n",
       "      <td>2732</td>\n",
       "      <td>2439</td>\n",
       "      <td>2209</td>\n",
       "    </tr>\n",
       "    <tr>\n",
       "      <th>1</th>\n",
       "      <td>1982</td>\n",
       "      <td>1600</td>\n",
       "      <td>2176</td>\n",
       "      <td>1718</td>\n",
       "      <td>1567</td>\n",
       "      <td>2932</td>\n",
       "      <td>2326</td>\n",
       "      <td>1672</td>\n",
       "      <td>1757</td>\n",
       "      <td>2167</td>\n",
       "      <td>...</td>\n",
       "      <td>1662</td>\n",
       "      <td>1608</td>\n",
       "      <td>2090</td>\n",
       "      <td>1525</td>\n",
       "      <td>3123</td>\n",
       "      <td>3712</td>\n",
       "      <td>2711</td>\n",
       "      <td>1862</td>\n",
       "      <td>1547</td>\n",
       "      <td>1407</td>\n",
       "    </tr>\n",
       "    <tr>\n",
       "      <th>2</th>\n",
       "      <td>1284</td>\n",
       "      <td>1109</td>\n",
       "      <td>1434</td>\n",
       "      <td>1217</td>\n",
       "      <td>1047</td>\n",
       "      <td>1902</td>\n",
       "      <td>1533</td>\n",
       "      <td>1147</td>\n",
       "      <td>1246</td>\n",
       "      <td>1495</td>\n",
       "      <td>...</td>\n",
       "      <td>1207</td>\n",
       "      <td>1163</td>\n",
       "      <td>1480</td>\n",
       "      <td>1098</td>\n",
       "      <td>2087</td>\n",
       "      <td>2407</td>\n",
       "      <td>1894</td>\n",
       "      <td>1442</td>\n",
       "      <td>1135</td>\n",
       "      <td>1107</td>\n",
       "    </tr>\n",
       "    <tr>\n",
       "      <th>3</th>\n",
       "      <td>1331</td>\n",
       "      <td>1442</td>\n",
       "      <td>1489</td>\n",
       "      <td>1449</td>\n",
       "      <td>1278</td>\n",
       "      <td>1599</td>\n",
       "      <td>1622</td>\n",
       "      <td>1509</td>\n",
       "      <td>1501</td>\n",
       "      <td>1466</td>\n",
       "      <td>...</td>\n",
       "      <td>1503</td>\n",
       "      <td>1465</td>\n",
       "      <td>1520</td>\n",
       "      <td>1472</td>\n",
       "      <td>1840</td>\n",
       "      <td>2098</td>\n",
       "      <td>1846</td>\n",
       "      <td>1717</td>\n",
       "      <td>1436</td>\n",
       "      <td>935</td>\n",
       "    </tr>\n",
       "    <tr>\n",
       "      <th>4</th>\n",
       "      <td>1458</td>\n",
       "      <td>1897</td>\n",
       "      <td>1578</td>\n",
       "      <td>1737</td>\n",
       "      <td>1648</td>\n",
       "      <td>1584</td>\n",
       "      <td>1793</td>\n",
       "      <td>1921</td>\n",
       "      <td>1911</td>\n",
       "      <td>1614</td>\n",
       "      <td>...</td>\n",
       "      <td>1984</td>\n",
       "      <td>1994</td>\n",
       "      <td>1825</td>\n",
       "      <td>1972</td>\n",
       "      <td>1770</td>\n",
       "      <td>1759</td>\n",
       "      <td>1916</td>\n",
       "      <td>1990</td>\n",
       "      <td>1864</td>\n",
       "      <td>788</td>\n",
       "    </tr>\n",
       "  </tbody>\n",
       "</table>\n",
       "<p>5 rows × 31 columns</p>\n",
       "</div>"
      ],
      "text/plain": [
       "Day     1     2     3     4     5     6     7     8     9     10  ...    22  \\\n",
       "Hour                                                              ...         \n",
       "0     3247  2480  3415  2944  2786  4623  3715  2882  2708  3351  ...  2852   \n",
       "1     1982  1600  2176  1718  1567  2932  2326  1672  1757  2167  ...  1662   \n",
       "2     1284  1109  1434  1217  1047  1902  1533  1147  1246  1495  ...  1207   \n",
       "3     1331  1442  1489  1449  1278  1599  1622  1509  1501  1466  ...  1503   \n",
       "4     1458  1897  1578  1737  1648  1584  1793  1921  1911  1614  ...  1984   \n",
       "\n",
       "Day     23    24    25    26    27    28    29    30    31  \n",
       "Hour                                                        \n",
       "0     2605  3277  2442  3887  5304  4224  2732  2439  2209  \n",
       "1     1608  2090  1525  3123  3712  2711  1862  1547  1407  \n",
       "2     1163  1480  1098  2087  2407  1894  1442  1135  1107  \n",
       "3     1465  1520  1472  1840  2098  1846  1717  1436   935  \n",
       "4     1994  1825  1972  1770  1759  1916  1990  1864   788  \n",
       "\n",
       "[5 rows x 31 columns]"
      ]
     },
     "execution_count": 158,
     "metadata": {},
     "output_type": "execute_result"
    }
   ],
   "source": [
    "#Creating the hour and day dataframe\n",
    "df_hour_day = df.groupby('Hour Day'.split()).apply(count_rows).unstack()\n",
    "df_hour_day.head()"
   ]
  },
  {
   "cell_type": "code",
   "execution_count": 160,
   "id": "6443845a-50be-45a1-a8e8-9c455d986fbc",
   "metadata": {},
   "outputs": [
    {
     "data": {
      "image/png": "[encoded data removed]",
      "text/plain": [
       "<Figure size 1200x800 with 2 Axes>"
      ]
     },
     "metadata": {},
     "output_type": "display_data"
    }
   ],
   "source": [
    "plt.figure(figsize = (12,8))\n",
    "\n",
    "#Using the seaborn heatmap function \n",
    "ax = sns.heatmap(df_hour_day, cmap=cm.YlGnBu, linewidth = .5)\n",
    "ax.set(title=\"Trips by Hour and Day\");"
   ]
  },
  {
   "cell_type": "markdown",
   "id": "2cb309b5-aa8a-40cd-a249-b3c81c9c55ff",
   "metadata": {},
   "source": [
    "#### Analysing the results"
   ]
  },
  {
   "cell_type": "markdown",
   "id": "95c3df0f-cddf-482e-99b9-f95949eae176",
   "metadata": {},
   "source": [
    "We see that the number of trips in increasing throughout the day, with a peak demand in the evening between 16:00 and 18:00.\n",
    "\n",
    "It corresponds to the time where employees finish their work and go home."
   ]
  },
  {
   "cell_type": "markdown",
   "id": "b42467e4-1727-470d-9cce-9318e69f483a",
   "metadata": {},
   "source": [
    "### 3.2 Heatmap by Hour and Weekday"
   ]
  },
  {
   "cell_type": "code",
   "execution_count": 165,
   "id": "b7b0ce47-44c4-48f0-b5be-fc695d1f344a",
   "metadata": {},
   "outputs": [
    {
     "name": "stderr",
     "output_type": "stream",
     "text": [
      "C:\\Users\\91945\\AppData\\Local\\Temp\\ipykernel_13692\\739661458.py:1: DeprecationWarning: DataFrameGroupBy.apply operated on the grouping columns. This behavior is deprecated, and in a future version of pandas the grouping columns will be excluded from the operation. Either pass `include_groups=False` to exclude the groupings or explicitly select the grouping columns after groupby to silence this warning.\n",
      "  df_hour_weekday = df.groupby('Hour Weekday'.split(), sort = False).apply(count_rows).unstack()\n"
     ]
    },
    {
     "data": {
      "text/html": [
       "<div>\n",
       "<style scoped>\n",
       "    .dataframe tbody tr th:only-of-type {\n",
       "        vertical-align: middle;\n",
       "    }\n",
       "\n",
       "    .dataframe tbody tr th {\n",
       "        vertical-align: top;\n",
       "    }\n",
       "\n",
       "    .dataframe thead th {\n",
       "        text-align: right;\n",
       "    }\n",
       "</style>\n",
       "<table border=\"1\" class=\"dataframe\">\n",
       "  <thead>\n",
       "    <tr style=\"text-align: right;\">\n",
       "      <th>Weekday</th>\n",
       "      <th>Monday</th>\n",
       "      <th>Tuesday</th>\n",
       "      <th>Wednesday</th>\n",
       "      <th>Thursday</th>\n",
       "      <th>Friday</th>\n",
       "      <th>Saturday</th>\n",
       "      <th>Sunday</th>\n",
       "    </tr>\n",
       "    <tr>\n",
       "      <th>Hour</th>\n",
       "      <th></th>\n",
       "      <th></th>\n",
       "      <th></th>\n",
       "      <th></th>\n",
       "      <th></th>\n",
       "      <th></th>\n",
       "      <th></th>\n",
       "    </tr>\n",
       "  </thead>\n",
       "  <tbody>\n",
       "    <tr>\n",
       "      <th>0</th>\n",
       "      <td>6237</td>\n",
       "      <td>7644</td>\n",
       "      <td>9293</td>\n",
       "      <td>13716</td>\n",
       "      <td>27633</td>\n",
       "      <td>32877</td>\n",
       "      <td>6436</td>\n",
       "    </tr>\n",
       "    <tr>\n",
       "      <th>1</th>\n",
       "      <td>3509</td>\n",
       "      <td>4324</td>\n",
       "      <td>5290</td>\n",
       "      <td>8163</td>\n",
       "      <td>19189</td>\n",
       "      <td>23015</td>\n",
       "      <td>3737</td>\n",
       "    </tr>\n",
       "    <tr>\n",
       "      <th>2</th>\n",
       "      <td>2571</td>\n",
       "      <td>3141</td>\n",
       "      <td>3719</td>\n",
       "      <td>5350</td>\n",
       "      <td>12710</td>\n",
       "      <td>15436</td>\n",
       "      <td>2938</td>\n",
       "    </tr>\n",
       "    <tr>\n",
       "      <th>3</th>\n",
       "      <td>4494</td>\n",
       "      <td>4855</td>\n",
       "      <td>5637</td>\n",
       "      <td>6930</td>\n",
       "      <td>9542</td>\n",
       "      <td>10597</td>\n",
       "      <td>6232</td>\n",
       "    </tr>\n",
       "    <tr>\n",
       "      <th>4</th>\n",
       "      <td>7548</td>\n",
       "      <td>7511</td>\n",
       "      <td>8505</td>\n",
       "      <td>8806</td>\n",
       "      <td>6846</td>\n",
       "      <td>6374</td>\n",
       "      <td>9640</td>\n",
       "    </tr>\n",
       "  </tbody>\n",
       "</table>\n",
       "</div>"
      ],
      "text/plain": [
       "Weekday  Monday  Tuesday  Wednesday  Thursday  Friday  Saturday  Sunday\n",
       "Hour                                                                   \n",
       "0          6237     7644       9293     13716   27633     32877    6436\n",
       "1          3509     4324       5290      8163   19189     23015    3737\n",
       "2          2571     3141       3719      5350   12710     15436    2938\n",
       "3          4494     4855       5637      6930    9542     10597    6232\n",
       "4          7548     7511       8505      8806    6846      6374    9640"
      ]
     },
     "execution_count": 165,
     "metadata": {},
     "output_type": "execute_result"
    }
   ],
   "source": [
    "df_hour_weekday = df.groupby('Hour Weekday'.split(), sort = False).apply(count_rows).unstack()\n",
    "df_hour_weekday.head()"
   ]
  },
  {
   "cell_type": "code",
   "execution_count": 167,
   "id": "4cd36467-911f-4d67-9fed-6d32bdb9050e",
   "metadata": {},
   "outputs": [
    {
     "data": {
      "image/png": "[encoded data removed]",
      "text/plain": [
       "<Figure size 1200x800 with 2 Axes>"
      ]
     },
     "metadata": {},
     "output_type": "display_data"
    }
   ],
   "source": [
    "plt.figure(figsize = (12,8))\n",
    "\n",
    "ax = sns.heatmap(df_hour_weekday, cmap=cm.YlGnBu, linewidth = .5)\n",
    "ax.set(title=\"Trips by Hour and Weekday\");"
   ]
  },
  {
   "cell_type": "markdown",
   "id": "9e1f883c-2a79-4b29-b174-6d74ad4d3f1d",
   "metadata": {},
   "source": [
    "#### Analysing the results"
   ]
  },
  {
   "cell_type": "markdown",
   "id": "eb6299f0-2515-4b2d-9419-bdf3f042200a",
   "metadata": {},
   "source": [
    "We can see that on working days (From Monday to Friday) the number of trips is higher from 16:00 to 21:00. It shows even better what we said from the first heatmap.\n",
    "\n",
    "On Friday the number of trips remains high until 23:00 and continues on early Saturday. It corresponds to the time where people come out from work, then go out for dinner or drink before the weekend.\n",
    "\n",
    "We can notice the same pattern on Saturday, people tend to go out at night, the number of trips remains on high until early Sunday."
   ]
  },
  {
   "cell_type": "markdown",
   "id": "60f7a014-5465-41e2-9b54-6bbfaec3493e",
   "metadata": {},
   "source": [
    "### 3.3 Heatmap by Day and Month"
   ]
  },
  {
   "cell_type": "code",
   "execution_count": 172,
   "id": "e350b124-d8c2-4f91-925e-afc671e9c28e",
   "metadata": {},
   "outputs": [
    {
     "name": "stderr",
     "output_type": "stream",
     "text": [
      "C:\\Users\\91945\\AppData\\Local\\Temp\\ipykernel_13692\\659767156.py:1: DeprecationWarning: DataFrameGroupBy.apply operated on the grouping columns. This behavior is deprecated, and in a future version of pandas the grouping columns will be excluded from the operation. Either pass `include_groups=False` to exclude the groupings or explicitly select the grouping columns after groupby to silence this warning.\n",
      "  df_day_month = df.groupby('Day Month'.split(), sort = False).apply(count_rows).unstack()\n"
     ]
    },
    {
     "data": {
      "text/html": [
       "<div>\n",
       "<style scoped>\n",
       "    .dataframe tbody tr th:only-of-type {\n",
       "        vertical-align: middle;\n",
       "    }\n",
       "\n",
       "    .dataframe tbody tr th {\n",
       "        vertical-align: top;\n",
       "    }\n",
       "\n",
       "    .dataframe thead th {\n",
       "        text-align: right;\n",
       "    }\n",
       "</style>\n",
       "<table border=\"1\" class=\"dataframe\">\n",
       "  <thead>\n",
       "    <tr style=\"text-align: right;\">\n",
       "      <th>Month</th>\n",
       "      <th>April</th>\n",
       "      <th>May</th>\n",
       "      <th>June</th>\n",
       "      <th>July</th>\n",
       "      <th>August</th>\n",
       "      <th>September</th>\n",
       "    </tr>\n",
       "    <tr>\n",
       "      <th>Day</th>\n",
       "      <th></th>\n",
       "      <th></th>\n",
       "      <th></th>\n",
       "      <th></th>\n",
       "      <th></th>\n",
       "      <th></th>\n",
       "    </tr>\n",
       "  </thead>\n",
       "  <tbody>\n",
       "    <tr>\n",
       "      <th>1</th>\n",
       "      <td>14546.0</td>\n",
       "      <td>23375.0</td>\n",
       "      <td>15967.0</td>\n",
       "      <td>21228.0</td>\n",
       "      <td>32353.0</td>\n",
       "      <td>19961.0</td>\n",
       "    </tr>\n",
       "    <tr>\n",
       "      <th>2</th>\n",
       "      <td>17474.0</td>\n",
       "      <td>24235.0</td>\n",
       "      <td>17503.0</td>\n",
       "      <td>26480.0</td>\n",
       "      <td>28678.0</td>\n",
       "      <td>28831.0</td>\n",
       "    </tr>\n",
       "    <tr>\n",
       "      <th>3</th>\n",
       "      <td>20701.0</td>\n",
       "      <td>22234.0</td>\n",
       "      <td>22674.0</td>\n",
       "      <td>21597.0</td>\n",
       "      <td>23146.0</td>\n",
       "      <td>32631.0</td>\n",
       "    </tr>\n",
       "    <tr>\n",
       "      <th>4</th>\n",
       "      <td>26714.0</td>\n",
       "      <td>13918.0</td>\n",
       "      <td>22831.0</td>\n",
       "      <td>14148.0</td>\n",
       "      <td>24952.0</td>\n",
       "      <td>38360.0</td>\n",
       "    </tr>\n",
       "    <tr>\n",
       "      <th>5</th>\n",
       "      <td>19521.0</td>\n",
       "      <td>17859.0</td>\n",
       "      <td>28371.0</td>\n",
       "      <td>10890.0</td>\n",
       "      <td>28094.0</td>\n",
       "      <td>42319.0</td>\n",
       "    </tr>\n",
       "  </tbody>\n",
       "</table>\n",
       "</div>"
      ],
      "text/plain": [
       "Month    April      May     June     July   August  September\n",
       "Day                                                          \n",
       "1      14546.0  23375.0  15967.0  21228.0  32353.0    19961.0\n",
       "2      17474.0  24235.0  17503.0  26480.0  28678.0    28831.0\n",
       "3      20701.0  22234.0  22674.0  21597.0  23146.0    32631.0\n",
       "4      26714.0  13918.0  22831.0  14148.0  24952.0    38360.0\n",
       "5      19521.0  17859.0  28371.0  10890.0  28094.0    42319.0"
      ]
     },
     "execution_count": 172,
     "metadata": {},
     "output_type": "execute_result"
    }
   ],
   "source": [
    "df_day_month = df.groupby('Day Month'.split(), sort = False).apply(count_rows).unstack()\n",
    "df_day_month.head()"
   ]
  },
  {
   "cell_type": "code",
   "execution_count": 174,
   "id": "9b5d78a3-0205-4134-9153-023896a9357d",
   "metadata": {},
   "outputs": [
    {
     "data": {
      "image/png": "[encoded data removed]",
      "text/plain": [
       "<Figure size 1200x800 with 2 Axes>"
      ]
     },
     "metadata": {},
     "output_type": "display_data"
    }
   ],
   "source": [
    "plt.figure(figsize = (12,8))\n",
    "\n",
    "ax = sns.heatmap(df_day_month, cmap = cm.YlGnBu, linewidth = .5)\n",
    "ax.set(title=\"Trips by Day and Month\");"
   ]
  },
  {
   "cell_type": "markdown",
   "id": "280239c7-8e77-44c5-b028-708614bd40c0",
   "metadata": {},
   "source": [
    "#### Analysing the results"
   ]
  },
  {
   "cell_type": "markdown",
   "id": "5d79bb9a-ee26-418d-b241-e8c6f291aadb",
   "metadata": {},
   "source": [
    "We observe that the number of trips increases each month, we can say that from April to September 2024, Uber was in a continuous improvement process.\n",
    "\n",
    "We can notice from the visualization a dark spot, it corresponds to the 30 April. The number of trips that day was extreme compared to the rest of the month.\n",
    "\n",
    "Unfortunatly we have not been able to find any factual information to explain the pulse. A successful marketing strategy can be assumed to be in place that days. So as the analysis go on we consider that day an outliner."
   ]
  },
  {
   "cell_type": "code",
   "execution_count": 178,
   "id": "3835d3bd-5265-4370-afe1-d9f558f37705",
   "metadata": {},
   "outputs": [],
   "source": [
    "#The number of trips the 30th of April\n",
    "max_april = max(df_day_month['April'])\n"
   ]
  },
  {
   "cell_type": "code",
   "execution_count": 180,
   "id": "765162b6-567c-4acb-a19d-c28ab5358566",
   "metadata": {},
   "outputs": [],
   "source": [
    "#The mean number of trips the rest of April\n",
    "mean_rest_april = df_day_month['April'][0:29].sum() / 29"
   ]
  },
  {
   "cell_type": "code",
   "execution_count": 182,
   "id": "8a8c4f0e-17dd-45f9-9b88-fc3efbcde605",
   "metadata": {},
   "outputs": [
    {
     "name": "stdout",
     "output_type": "stream",
     "text": [
      "The number of trips the 30th of April is 2 times higher than the mean number of trips during the rest of the month\n"
     ]
    }
   ],
   "source": [
    "ratio_april = round(max_april / mean_rest_april)\n",
    "print('The number of trips the 30th of April is {} times higher than the mean number of trips during the rest of the month'.format(ratio_april))"
   ]
  },
  {
   "cell_type": "markdown",
   "id": "fd030e4d-3186-4d74-bb59-d158aea2f0f5",
   "metadata": {},
   "source": [
    "### 3.4 Heatmap by Month and Weekday"
   ]
  },
  {
   "cell_type": "code",
   "execution_count": 185,
   "id": "e840e185-023d-4913-9d30-dbaebbc91aef",
   "metadata": {},
   "outputs": [
    {
     "name": "stderr",
     "output_type": "stream",
     "text": [
      "C:\\Users\\91945\\AppData\\Local\\Temp\\ipykernel_13692\\3684975110.py:1: DeprecationWarning: DataFrameGroupBy.apply operated on the grouping columns. This behavior is deprecated, and in a future version of pandas the grouping columns will be excluded from the operation. Either pass `include_groups=False` to exclude the groupings or explicitly select the grouping columns after groupby to silence this warning.\n",
      "  df_month_weekday = df.groupby('Month Weekday'.split(), sort = False).apply(count_rows).unstack()\n"
     ]
    },
    {
     "data": {
      "text/html": [
       "<div>\n",
       "<style scoped>\n",
       "    .dataframe tbody tr th:only-of-type {\n",
       "        vertical-align: middle;\n",
       "    }\n",
       "\n",
       "    .dataframe tbody tr th {\n",
       "        vertical-align: top;\n",
       "    }\n",
       "\n",
       "    .dataframe thead th {\n",
       "        text-align: right;\n",
       "    }\n",
       "</style>\n",
       "<table border=\"1\" class=\"dataframe\">\n",
       "  <thead>\n",
       "    <tr style=\"text-align: right;\">\n",
       "      <th>Weekday</th>\n",
       "      <th>Monday</th>\n",
       "      <th>Tuesday</th>\n",
       "      <th>Wednesday</th>\n",
       "      <th>Thursday</th>\n",
       "      <th>Friday</th>\n",
       "      <th>Saturday</th>\n",
       "      <th>Sunday</th>\n",
       "    </tr>\n",
       "    <tr>\n",
       "      <th>Month</th>\n",
       "      <th></th>\n",
       "      <th></th>\n",
       "      <th></th>\n",
       "      <th></th>\n",
       "      <th></th>\n",
       "      <th></th>\n",
       "      <th></th>\n",
       "    </tr>\n",
       "  </thead>\n",
       "  <tbody>\n",
       "    <tr>\n",
       "      <th>April</th>\n",
       "      <td>91185</td>\n",
       "      <td>108631</td>\n",
       "      <td>85067</td>\n",
       "      <td>90303</td>\n",
       "      <td>77218</td>\n",
       "      <td>51251</td>\n",
       "      <td>60861</td>\n",
       "    </tr>\n",
       "    <tr>\n",
       "      <th>May</th>\n",
       "      <td>76662</td>\n",
       "      <td>89857</td>\n",
       "      <td>128921</td>\n",
       "      <td>133991</td>\n",
       "      <td>102990</td>\n",
       "      <td>56168</td>\n",
       "      <td>63846</td>\n",
       "    </tr>\n",
       "    <tr>\n",
       "      <th>June</th>\n",
       "      <td>88134</td>\n",
       "      <td>99654</td>\n",
       "      <td>115325</td>\n",
       "      <td>105056</td>\n",
       "      <td>81364</td>\n",
       "      <td>79656</td>\n",
       "      <td>94655</td>\n",
       "    </tr>\n",
       "    <tr>\n",
       "      <th>July</th>\n",
       "      <td>137454</td>\n",
       "      <td>147717</td>\n",
       "      <td>148439</td>\n",
       "      <td>102735</td>\n",
       "      <td>90260</td>\n",
       "      <td>76327</td>\n",
       "      <td>93189</td>\n",
       "    </tr>\n",
       "    <tr>\n",
       "      <th>August</th>\n",
       "      <td>107124</td>\n",
       "      <td>115256</td>\n",
       "      <td>124117</td>\n",
       "      <td>148674</td>\n",
       "      <td>132225</td>\n",
       "      <td>110246</td>\n",
       "      <td>91633</td>\n",
       "    </tr>\n",
       "  </tbody>\n",
       "</table>\n",
       "</div>"
      ],
      "text/plain": [
       "Weekday  Monday  Tuesday  Wednesday  Thursday  Friday  Saturday  Sunday\n",
       "Month                                                                  \n",
       "April     91185   108631      85067     90303   77218     51251   60861\n",
       "May       76662    89857     128921    133991  102990     56168   63846\n",
       "June      88134    99654     115325    105056   81364     79656   94655\n",
       "July     137454   147717     148439    102735   90260     76327   93189\n",
       "August   107124   115256     124117    148674  132225    110246   91633"
      ]
     },
     "execution_count": 185,
     "metadata": {},
     "output_type": "execute_result"
    }
   ],
   "source": [
    "df_month_weekday = df.groupby('Month Weekday'.split(), sort = False).apply(count_rows).unstack()\n",
    "df_month_weekday.head()"
   ]
  },
  {
   "cell_type": "code",
   "execution_count": 187,
   "id": "46b91614-0140-422a-9d68-4bd0f3b82655",
   "metadata": {},
   "outputs": [
    {
     "data": {
      "image/png": "[encoded data removed]",
      "text/plain": [
       "<Figure size 1200x800 with 2 Axes>"
      ]
     },
     "metadata": {},
     "output_type": "display_data"
    }
   ],
   "source": [
    "plt.figure(figsize = (12,8))\n",
    "\n",
    "ax = sns.heatmap(df_month_weekday, cmap= cm.YlGnBu, linewidth = .5)\n",
    "ax.set(title=\"Trips by Month and Weekday\");"
   ]
  },
  {
   "cell_type": "markdown",
   "id": "c47cb046-4d56-43f4-b0cb-1cbc43047fe3",
   "metadata": {},
   "source": [
    "# 4. Conclusion"
   ]
  },
  {
   "cell_type": "markdown",
   "id": "0217e7e2-d444-4f7d-9853-cd166cf7db47",
   "metadata": {},
   "source": [
    "Through our analysis of the Uber Pickups in New York City data set in 2024, we managed to get the following informations:\n",
    "- The peak demand hour 17:00.\n",
    "- The main customer category are workers.\n",
    "- An indicator of Uber's improvement from April to September.\n",
    "- People tend to use Uber to go to work around 7:00 and 8:00 on working days.\n",
    "- People tend to use Uber late at night (around midnight) during weekends.\n",
    "- We should investigate why people don't use uber on Mondays as much as they do on other working days."
   ]
  }
 ],
 "metadata": {
  "kernelspec": {
   "display_name": "Python 3 (ipykernel)",
   "language": "python",
   "name": "python3"
  },
  "language_info": {
   "codemirror_mode": {
    "name": "ipython",
    "version": 3
   },
   "file_extension": ".py",
   "mimetype": "text/x-python",
   "name": "python",
   "nbconvert_exporter": "python",
   "pygments_lexer": "ipython3",
   "version": "3.12.4"
  }
 },
 "nbformat": 4,
 "nbformat_minor": 5
}
